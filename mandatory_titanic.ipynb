{
 "cells": [
  {
   "cell_type": "markdown",
   "metadata": {},
   "source": [
    "# Tried-and-True: The Titanic Dataset\n",
    "\n",
    "I've spent this Summer of 2020 primarily focused with my work at the UCSD Department of Cognitive Science and participating in the Facebook Data Challenge. On top of that, I've been able to do lots of self-studying in the realm of statistics and business to improve my testing and product-sense. \n",
    "\n",
    "I wanted to put out a quick project for fun meanwhile I continue my work, so I thought I'd check out the Titanic dataset. The Titanic dataset is often toughted as a very begginer-friendly data science project. While this obviously lacks impact, I thought it'd be a fun way to spend a Sunday, meanwhile I finish up my projects in my professional work!\n",
    "\n",
    "![](https://www.history.com/.image/ar_16:9%2Cc_fill%2Ccs_srgb%2Cfl_progressive%2Cg_faces:center%2Cq_auto:good%2Cw_768/MTU3OTIzNTgwNjg3NDI3MjE4/women-and-children-first-on-sinking-ships-its-every-man-for-himselfs-featured-photo.jpg)\n",
    "\n",
    "### The Scene\n",
    "\n",
    "On April 12th, 1912, the Titanic set out on its maiden voyage from Southampton England, having been completed just two weeks prior. Hype had been surrounding the ship during its 2-year long construction and people were eager to finally board the ship. The Titanic promised an unmatched level of luxury, having been equipped with some of the finest amenities available during the early 20th century. Third class cabins were comparable to the upper class cabins in other, less renowned ships; 1st and 2nd class cabins in a league of their own. With a stop in France, Ireland, and New York, the Titanic was the best way to travel *in style*.\n",
    "\n",
    "The Winter of 1911-1912 had been one of the warmest on record at the time, which resulted in a lot more drifting ice than usual. It was a dangerous time to set sail, but with pressures rising and competing lines such as Cunard hot on the Titanic's tail, the journey to New York had to go on. Given the hype around the Titanic's formidable engineering, many thought it was \"practically unsinkable\". Despite its size, the Titanic's creators boasted about how it could turn on a dime. These claims were put to the test when the ship miraculously avoided impact with the SS New York on its journey to Cherbourg, France. At the time, it was a testament to the Titanics superior engineering; today, it's closer to a bad omen.\n",
    "\n",
    "![](https://vignette.wikia.nocookie.net/titanic/images/d/db/14_titanic_new_york_oceanic.jpg/revision/latest?cb=20180902183429)\n",
    "\n",
    "On April 14th, just two days after embarking, the Titanic made impact with a lone iceberg that gashed the lower decks of the unsinkable ship. 7 tons of lethally cold ice water flooded the boiler rooms and the lungs of crew members within it. In just under three hours, the seas of the Atlantic engulfed the Titanic, taking with it the lives of 1500 men, women, and children that boarded the unsinkable ship.\n",
    "\n",
    "### Our Goal\n",
    "\n",
    "But was death evenly distributed? Only 1/3 of the passengers aboard the ship survived, who were they? Was it just sheer luck, or was something else at play? There has always been the idea that \"women and children\" will be saved first, but did this ideology live on as chaos ensued in the Titanics final moments?\n",
    "\n",
    "Here, we aim to investigate the matter and see what attributes made passengers more likely to survive, and if such patterns even exist. We thus have two goals. First, a hypothesis.\n",
    "\n",
    "H<sub>0</sub>: Men and Women were just as likely to survive the Titanic. <br>\n",
    "H<sub>a</sub>: Men and Women differed in their likelihood of survival.\n",
    "\n",
    "Second, if we can identify attributes that predict survival, then we should attempt to predict the survival of passengers based on these attributes. In a real word scenario, we would want a model with few false negatives, as a false negative would suggest a person who is at risk-of death would not be labeled as such. This is highly fatal and we cannot afford such errors, so they should minimized in our model. Thus models will be graded primarily on recall and F1 score.\n",
    "\n",
    "\n",
    "### Cleaning and Setup"
   ]
  },
  {
   "cell_type": "code",
   "execution_count": 1,
   "metadata": {},
   "outputs": [],
   "source": [
    "import pandas as pd\n",
    "import numpy as np\n",
    "\n",
    "import matplotlib.pyplot as plt\n",
    "import seaborn as sns\n",
    "\n",
    "from scipy.stats import chi2_contingency, ttest_ind\n",
    "\n",
    "from sklearn.preprocessing import StandardScaler\n",
    "from sklearn.model_selection import train_test_split\n",
    "from sklearn.metrics import confusion_matrix\n",
    "from sklearn.linear_model import LogisticRegression\n",
    "from sklearn.naive_bayes import CategoricalNB\n",
    "from sklearn.ensemble import RandomForestClassifier\n",
    "\n",
    "import pandasql\n",
    "\n",
    "#highly recommend pandasql! let's you manipulate pandas dataframes using sql queries\n",
    "sql = lambda q: pandasql.sqldf(q, globals())"
   ]
  },
  {
   "cell_type": "code",
   "execution_count": 2,
   "metadata": {},
   "outputs": [],
   "source": [
    "df = pd.read_csv('train.csv')"
   ]
  },
  {
   "cell_type": "code",
   "execution_count": 3,
   "metadata": {},
   "outputs": [
    {
     "name": "stdout",
     "output_type": "stream",
     "text": [
      "Duplicate Rows\n"
     ]
    },
    {
     "data": {
      "text/plain": [
       "False    891\n",
       "dtype: int64"
      ]
     },
     "execution_count": 3,
     "metadata": {},
     "output_type": "execute_result"
    }
   ],
   "source": [
    "print('Duplicate Rows')\n",
    "df.duplicated().value_counts()"
   ]
  },
  {
   "cell_type": "code",
   "execution_count": 4,
   "metadata": {},
   "outputs": [],
   "source": [
    "#dropping directly identifiable info\n",
    "df.drop(columns = ['PassengerId', 'Name'], inplace = True)"
   ]
  },
  {
   "cell_type": "code",
   "execution_count": 5,
   "metadata": {},
   "outputs": [
    {
     "data": {
      "text/html": [
       "<div>\n",
       "<style scoped>\n",
       "    .dataframe tbody tr th:only-of-type {\n",
       "        vertical-align: middle;\n",
       "    }\n",
       "\n",
       "    .dataframe tbody tr th {\n",
       "        vertical-align: top;\n",
       "    }\n",
       "\n",
       "    .dataframe thead th {\n",
       "        text-align: right;\n",
       "    }\n",
       "</style>\n",
       "<table border=\"1\" class=\"dataframe\">\n",
       "  <thead>\n",
       "    <tr style=\"text-align: right;\">\n",
       "      <th></th>\n",
       "      <th>Survived</th>\n",
       "      <th>Pclass</th>\n",
       "      <th>Sex</th>\n",
       "      <th>Age</th>\n",
       "      <th>SibSp</th>\n",
       "      <th>Parch</th>\n",
       "      <th>Ticket</th>\n",
       "      <th>Fare</th>\n",
       "      <th>Cabin</th>\n",
       "      <th>Embarked</th>\n",
       "    </tr>\n",
       "  </thead>\n",
       "  <tbody>\n",
       "    <tr>\n",
       "      <th>0</th>\n",
       "      <td>0</td>\n",
       "      <td>3</td>\n",
       "      <td>male</td>\n",
       "      <td>22.0</td>\n",
       "      <td>1</td>\n",
       "      <td>0</td>\n",
       "      <td>A/5 21171</td>\n",
       "      <td>7.2500</td>\n",
       "      <td>NaN</td>\n",
       "      <td>S</td>\n",
       "    </tr>\n",
       "    <tr>\n",
       "      <th>1</th>\n",
       "      <td>1</td>\n",
       "      <td>1</td>\n",
       "      <td>female</td>\n",
       "      <td>38.0</td>\n",
       "      <td>1</td>\n",
       "      <td>0</td>\n",
       "      <td>PC 17599</td>\n",
       "      <td>71.2833</td>\n",
       "      <td>C85</td>\n",
       "      <td>C</td>\n",
       "    </tr>\n",
       "    <tr>\n",
       "      <th>2</th>\n",
       "      <td>1</td>\n",
       "      <td>3</td>\n",
       "      <td>female</td>\n",
       "      <td>26.0</td>\n",
       "      <td>0</td>\n",
       "      <td>0</td>\n",
       "      <td>STON/O2. 3101282</td>\n",
       "      <td>7.9250</td>\n",
       "      <td>NaN</td>\n",
       "      <td>S</td>\n",
       "    </tr>\n",
       "    <tr>\n",
       "      <th>3</th>\n",
       "      <td>1</td>\n",
       "      <td>1</td>\n",
       "      <td>female</td>\n",
       "      <td>35.0</td>\n",
       "      <td>1</td>\n",
       "      <td>0</td>\n",
       "      <td>113803</td>\n",
       "      <td>53.1000</td>\n",
       "      <td>C123</td>\n",
       "      <td>S</td>\n",
       "    </tr>\n",
       "    <tr>\n",
       "      <th>4</th>\n",
       "      <td>0</td>\n",
       "      <td>3</td>\n",
       "      <td>male</td>\n",
       "      <td>35.0</td>\n",
       "      <td>0</td>\n",
       "      <td>0</td>\n",
       "      <td>373450</td>\n",
       "      <td>8.0500</td>\n",
       "      <td>NaN</td>\n",
       "      <td>S</td>\n",
       "    </tr>\n",
       "  </tbody>\n",
       "</table>\n",
       "</div>"
      ],
      "text/plain": [
       "   Survived  Pclass     Sex   Age  SibSp  Parch            Ticket     Fare  \\\n",
       "0         0       3    male  22.0      1      0         A/5 21171   7.2500   \n",
       "1         1       1  female  38.0      1      0          PC 17599  71.2833   \n",
       "2         1       3  female  26.0      0      0  STON/O2. 3101282   7.9250   \n",
       "3         1       1  female  35.0      1      0            113803  53.1000   \n",
       "4         0       3    male  35.0      0      0            373450   8.0500   \n",
       "\n",
       "  Cabin Embarked  \n",
       "0   NaN        S  \n",
       "1   C85        C  \n",
       "2   NaN        S  \n",
       "3  C123        S  \n",
       "4   NaN        S  "
      ]
     },
     "execution_count": 5,
     "metadata": {},
     "output_type": "execute_result"
    }
   ],
   "source": [
    "df.head()"
   ]
  },
  {
   "cell_type": "code",
   "execution_count": 6,
   "metadata": {},
   "outputs": [
    {
     "data": {
      "text/plain": [
       "(891, 10)"
      ]
     },
     "execution_count": 6,
     "metadata": {},
     "output_type": "execute_result"
    }
   ],
   "source": [
    "df.shape"
   ]
  },
  {
   "cell_type": "markdown",
   "metadata": {},
   "source": [
    "Before we start with EDA, we should clean this data up a bit more and investigate any columns with null values."
   ]
  },
  {
   "cell_type": "code",
   "execution_count": 7,
   "metadata": {},
   "outputs": [
    {
     "data": {
      "text/plain": [
       "Survived      0\n",
       "Pclass        0\n",
       "Sex           0\n",
       "Age         177\n",
       "SibSp         0\n",
       "Parch         0\n",
       "Ticket        0\n",
       "Fare          0\n",
       "Cabin       687\n",
       "Embarked      2\n",
       "dtype: int64"
      ]
     },
     "execution_count": 7,
     "metadata": {},
     "output_type": "execute_result"
    }
   ],
   "source": [
    "#checking if any columns have null values, and how many\n",
    "df.isnull().sum()"
   ]
  },
  {
   "cell_type": "markdown",
   "metadata": {},
   "source": [
    "There are many null values in the Age and Cabin columns. I will investigate both to see how to best handle them, starting with age."
   ]
  },
  {
   "cell_type": "code",
   "execution_count": 8,
   "metadata": {},
   "outputs": [],
   "source": [
    "#df containing rows with a null value in the age column\n",
    "null_age_df = df.loc[df['Age'].isnull()]"
   ]
  },
  {
   "cell_type": "code",
   "execution_count": 9,
   "metadata": {},
   "outputs": [
    {
     "data": {
      "text/plain": [
       "[Text(0, 0, 'Died'), Text(0, 0, 'Survived')]"
      ]
     },
     "execution_count": 9,
     "metadata": {},
     "output_type": "execute_result"
    },
    {
     "data": {
      "image/png": "[encoded data removed]",
      "text/plain": [
       "<Figure size 432x288 with 1 Axes>"
      ]
     },
     "metadata": {
      "needs_background": "light"
     },
     "output_type": "display_data"
    }
   ],
   "source": [
    "plt.title('Count of Survivals for Passengers with Null Age', size = 14)\n",
    "\n",
    "g = sns.countplot(null_age_df['Survived'])\n",
    "\n",
    "plt.ylabel('Count', size = 10)\n",
    "plt.xlabel('Outcome', size = 10)\n",
    "\n",
    "g.set_xticklabels(['Died', 'Survived'])"
   ]
  },
  {
   "cell_type": "markdown",
   "metadata": {},
   "source": [
    "Most of these passengers seemed to have died aboard the Titanic. We should further segment these passengers by class to investigate further."
   ]
  },
  {
   "cell_type": "code",
   "execution_count": 10,
   "metadata": {},
   "outputs": [
    {
     "data": {
      "text/plain": [
       "Text(0, 0.5, 'Count')"
      ]
     },
     "execution_count": 10,
     "metadata": {},
     "output_type": "execute_result"
    },
    {
     "data": {
      "image/png": "[encoded data removed]",
      "text/plain": [
       "<Figure size 432x288 with 1 Axes>"
      ]
     },
     "metadata": {
      "needs_background": "light"
     },
     "output_type": "display_data"
    }
   ],
   "source": [
    "plt.title('Count of Class Memberships (Passengers with Null Age)', size = 14)\n",
    "\n",
    "g = sns.countplot(null_age_df['Pclass'])\n",
    "\n",
    "g.set_xticklabels(['1st', '2nd', '3rd'])\n",
    "\n",
    "plt.xlabel('Passenger Class', size = 11)\n",
    "plt.ylabel('Count', size = 11)"
   ]
  },
  {
   "cell_type": "markdown",
   "metadata": {},
   "source": [
    "This brief inspection shows that the majority of the  passengers with null age information were in 3rd class. Our previous plot also showed that the majority of passengers with null-age also did not survive. How does this compare to the data set at large?"
   ]
  },
  {
   "cell_type": "code",
   "execution_count": 11,
   "metadata": {},
   "outputs": [],
   "source": [
    "#proportion of null-age passengers that survived vs. died\n",
    "nullage_survival_proportion = null_age_df['Survived'].value_counts(normalize = True).reset_index()\n",
    "\n",
    "#proportion of all other passengers that survived vs. died\n",
    "nonnull_age_df = df.loc[~df['Age'].isnull()]\n",
    "df_survival_proportion = nonnull_age_df['Survived'].value_counts(normalize = True).reset_index()"
   ]
  },
  {
   "cell_type": "code",
   "execution_count": 12,
   "metadata": {},
   "outputs": [
    {
     "name": "stdout",
     "output_type": "stream",
     "text": [
      "Null Age Survival Propotions\n"
     ]
    },
    {
     "data": {
      "text/html": [
       "<div>\n",
       "<style scoped>\n",
       "    .dataframe tbody tr th:only-of-type {\n",
       "        vertical-align: middle;\n",
       "    }\n",
       "\n",
       "    .dataframe tbody tr th {\n",
       "        vertical-align: top;\n",
       "    }\n",
       "\n",
       "    .dataframe thead th {\n",
       "        text-align: right;\n",
       "    }\n",
       "</style>\n",
       "<table border=\"1\" class=\"dataframe\">\n",
       "  <thead>\n",
       "    <tr style=\"text-align: right;\">\n",
       "      <th></th>\n",
       "      <th>index</th>\n",
       "      <th>Survived</th>\n",
       "    </tr>\n",
       "  </thead>\n",
       "  <tbody>\n",
       "    <tr>\n",
       "      <th>0</th>\n",
       "      <td>0</td>\n",
       "      <td>0.706215</td>\n",
       "    </tr>\n",
       "    <tr>\n",
       "      <th>1</th>\n",
       "      <td>1</td>\n",
       "      <td>0.293785</td>\n",
       "    </tr>\n",
       "  </tbody>\n",
       "</table>\n",
       "</div>"
      ],
      "text/plain": [
       "   index  Survived\n",
       "0      0  0.706215\n",
       "1      1  0.293785"
      ]
     },
     "execution_count": 12,
     "metadata": {},
     "output_type": "execute_result"
    }
   ],
   "source": [
    "print('Null Age Survival Propotions')\n",
    "nullage_survival_proportion"
   ]
  },
  {
   "cell_type": "code",
   "execution_count": 13,
   "metadata": {},
   "outputs": [
    {
     "name": "stdout",
     "output_type": "stream",
     "text": [
      "Non-Null Age Survival Proportions\n"
     ]
    },
    {
     "data": {
      "text/html": [
       "<div>\n",
       "<style scoped>\n",
       "    .dataframe tbody tr th:only-of-type {\n",
       "        vertical-align: middle;\n",
       "    }\n",
       "\n",
       "    .dataframe tbody tr th {\n",
       "        vertical-align: top;\n",
       "    }\n",
       "\n",
       "    .dataframe thead th {\n",
       "        text-align: right;\n",
       "    }\n",
       "</style>\n",
       "<table border=\"1\" class=\"dataframe\">\n",
       "  <thead>\n",
       "    <tr style=\"text-align: right;\">\n",
       "      <th></th>\n",
       "      <th>index</th>\n",
       "      <th>Survived</th>\n",
       "    </tr>\n",
       "  </thead>\n",
       "  <tbody>\n",
       "    <tr>\n",
       "      <th>0</th>\n",
       "      <td>0</td>\n",
       "      <td>0.593838</td>\n",
       "    </tr>\n",
       "    <tr>\n",
       "      <th>1</th>\n",
       "      <td>1</td>\n",
       "      <td>0.406162</td>\n",
       "    </tr>\n",
       "  </tbody>\n",
       "</table>\n",
       "</div>"
      ],
      "text/plain": [
       "   index  Survived\n",
       "0      0  0.593838\n",
       "1      1  0.406162"
      ]
     },
     "execution_count": 13,
     "metadata": {},
     "output_type": "execute_result"
    }
   ],
   "source": [
    "print('Non-Null Age Survival Proportions')\n",
    "df_survival_proportion"
   ]
  },
  {
   "cell_type": "code",
   "execution_count": 14,
   "metadata": {},
   "outputs": [
    {
     "data": {
      "image/png": "[encoded data removed]",
      "text/plain": [
       "<Figure size 432x288 with 2 Axes>"
      ]
     },
     "metadata": {
      "needs_background": "light"
     },
     "output_type": "display_data"
    }
   ],
   "source": [
    "fig, axs = plt.subplots(1, 2, sharey = True, constrained_layout = True)\n",
    "\n",
    "fig.suptitle('Survival Outcomes for Passengers with Null Age vs. Non-Null Age', fontsize=16)\n",
    "\n",
    "sns.barplot(data = nullage_survival_proportion, x = 'index', y= 'Survived', ax = axs[0])\n",
    "sns.barplot(data = df_survival_proportion, x = 'index', y= 'Survived', ax = axs[1])\n",
    "\n",
    "axs[0].set_title('Null Age')\n",
    "axs[0].set_xlabel('Outcome')\n",
    "axs[0].set_ylabel('Proportion of Passengers')\n",
    "axs[0].set_xticklabels(['Died', 'Survived'])\n",
    "\n",
    "axs[1].set_title('Non-Null Age')\n",
    "axs[1].set_xlabel('Outcome')\n",
    "axs[1].set_ylabel('Proportion of Passengers')\n",
    "axs[1].set_xticklabels(['Died', 'Survived'])\n",
    "\n",
    "\n",
    "\n",
    "plt.show()"
   ]
  },
  {
   "cell_type": "markdown",
   "metadata": {},
   "source": [
    "It seems like passengers that did not survive are disporportionately represented as having null in their age column. Given that information, it seems like we should hold on to those individuals with null age, as they will be useful in making our prediction. Models such as Naive-Bayes and Random Forests are robust to missing values. However, in order to avoid boxing ourselves in, we can impute these missing values using the mean, median, or mode. Before we decide, let's get a better idea of how age is distributed within this table. Additionally, we can generate appropriate ages based on other information, such as identifiers that may signal if the passanger was a child or not. This would be useful in the case that children were evacuated first, and thus were more likely to survive."
   ]
  },
  {
   "cell_type": "code",
   "execution_count": 15,
   "metadata": {},
   "outputs": [
    {
     "data": {
      "text/plain": [
       "count    714.000000\n",
       "mean      29.699118\n",
       "std       14.526497\n",
       "min        0.420000\n",
       "25%       20.125000\n",
       "50%       28.000000\n",
       "75%       38.000000\n",
       "max       80.000000\n",
       "Name: Age, dtype: float64"
      ]
     },
     "execution_count": 15,
     "metadata": {},
     "output_type": "execute_result"
    }
   ],
   "source": [
    "#Descriptive statistics of Age column\n",
    "nonnull_age_df['Age'].describe()"
   ]
  },
  {
   "cell_type": "markdown",
   "metadata": {},
   "source": [
    "Mean of 29.69, with a standard deviation of 14.52. How does the distribution look?"
   ]
  },
  {
   "cell_type": "code",
   "execution_count": 16,
   "metadata": {},
   "outputs": [
    {
     "name": "stderr",
     "output_type": "stream",
     "text": [
      "C:\\Users\\BALTHASAR - 02\\Anaconda3\\lib\\site-packages\\scipy\\stats\\stats.py:1713: FutureWarning: Using a non-tuple sequence for multidimensional indexing is deprecated; use `arr[tuple(seq)]` instead of `arr[seq]`. In the future this will be interpreted as an array index, `arr[np.array(seq)]`, which will result either in an error or a different result.\n",
      "  return np.add.reduce(sorted[indexer] * weights, axis=axis) / sumval\n"
     ]
    },
    {
     "data": {
      "image/png": "[encoded data removed]",
      "text/plain": [
       "<Figure size 432x288 with 1 Axes>"
      ]
     },
     "metadata": {
      "needs_background": "light"
     },
     "output_type": "display_data"
    }
   ],
   "source": [
    "plt.title('Age Distribution', size = 16)\n",
    "\n",
    "sns.distplot(nonnull_age_df['Age'], color = 'tab:grey')\n",
    "\n",
    "plt.xlabel('Age', size = 12)\n",
    "plt.ylabel('Proportion', size = 12)\n",
    "\n",
    "plt.grid(axis = 'y')"
   ]
  },
  {
   "cell_type": "code",
   "execution_count": 17,
   "metadata": {},
   "outputs": [
    {
     "name": "stdout",
     "output_type": "stream",
     "text": [
      "Mode Age: 24.0\n"
     ]
    }
   ],
   "source": [
    "print('Mode Age:', nonnull_age_df['Age'].mode()[0])"
   ]
  },
  {
   "cell_type": "code",
   "execution_count": 18,
   "metadata": {},
   "outputs": [
    {
     "name": "stdout",
     "output_type": "stream",
     "text": [
      "Median Age: 28.0\n"
     ]
    }
   ],
   "source": [
    "print('Median Age:', nonnull_age_df['Age'].median())"
   ]
  },
  {
   "cell_type": "markdown",
   "metadata": {},
   "source": [
    "Is there any differences between passenger classes?"
   ]
  },
  {
   "cell_type": "code",
   "execution_count": 19,
   "metadata": {},
   "outputs": [
    {
     "data": {
      "text/plain": [
       "Text(0.04, 0.5, 'Proportion')"
      ]
     },
     "execution_count": 19,
     "metadata": {},
     "output_type": "execute_result"
    },
    {
     "data": {
      "image/png": "[encoded data removed]",
      "text/plain": [
       "<Figure size 864x360 with 3 Axes>"
      ]
     },
     "metadata": {
      "needs_background": "light"
     },
     "output_type": "display_data"
    }
   ],
   "source": [
    "fig, axs = plt.subplots(1, 3, figsize = (12,5), sharex = True, sharey = True)\n",
    "\n",
    "fig.suptitle('Age Distribution Segmented by Passenger Class', size = 16)\n",
    "\n",
    "sns.distplot(nonnull_age_df['Age'].loc[nonnull_age_df['Pclass'] == 1], color = 'tab:blue', ax = axs[0])\n",
    "sns.distplot(nonnull_age_df['Age'].loc[nonnull_age_df['Pclass'] == 2], color = 'tab:orange', ax = axs[1])\n",
    "sns.distplot(nonnull_age_df['Age'].loc[nonnull_age_df['Pclass'] == 2], color = 'tab:green', ax = axs[2])\n",
    "\n",
    "axs[0].set_title('1st Class')\n",
    "axs[1].set_title('2nd Class')\n",
    "axs[2].set_title('3rd Class')\n",
    "\n",
    "fig.text(0.04, 0.5, 'Proportion', va='center', rotation='vertical', size = 12)"
   ]
  },
  {
   "cell_type": "markdown",
   "metadata": {},
   "source": [
    "First class passengers seem to be a bit older on average. Second and Third class passengers both seem to have a spike at the lower end of the age distribution. This of course must mean children aboard the ship. To get a better estimate for the childrens mean age, then we should segment this data further. Children are most likely to be traveling with parents, thus their 'Parch' column should have a value greater than 0."
   ]
  },
  {
   "cell_type": "code",
   "execution_count": 20,
   "metadata": {},
   "outputs": [
    {
     "data": {
      "text/plain": [
       "Text(0.04, 0.5, 'Proportion')"
      ]
     },
     "execution_count": 20,
     "metadata": {},
     "output_type": "execute_result"
    },
    {
     "data": {
      "image/png": "[encoded data removed]",
      "text/plain": [
       "<Figure size 720x360 with 2 Axes>"
      ]
     },
     "metadata": {
      "needs_background": "light"
     },
     "output_type": "display_data"
    }
   ],
   "source": [
    "fig, axs = plt.subplots(1, 2, figsize = (10,5), sharex = True, sharey = True)\n",
    "\n",
    "fig.suptitle('Age Distribution for Passengers Travelling with Parents/Children', size = 16)\n",
    "\n",
    "sns.distplot(nonnull_age_df['Age'].loc[(nonnull_age_df['Pclass'] == 2) & (nonnull_age_df['Parch'] > 0)],\n",
    "             color = 'tab:orange',\n",
    "             ax = axs[0])\n",
    "sns.distplot(nonnull_age_df['Age'].loc[(nonnull_age_df['Pclass'] == 3) & (nonnull_age_df['Parch'] > 0)],\n",
    "             color = 'tab:green',\n",
    "             ax = axs[1])\n",
    "\n",
    "axs[0].set_title('2nd Class')\n",
    "\n",
    "axs[1].set_title('3rd Class')\n",
    "\n",
    "fig.text(0.04, 0.5, 'Proportion', va='center', rotation='vertical', size = 12)"
   ]
  },
  {
   "cell_type": "markdown",
   "metadata": {},
   "source": [
    "This is a much better representation of who these passengers are. With second class passengers, we can get away with imputing their values with the mean. But for passengers in third class, it seems like a mode may be more appropriate due to the heavy skew of the distribution.\n",
    "\n",
    "It's important to note that we will inevitably be grouping some parents into the 3rd passenger bunch, due to the fact that this data uses the same column to denote if a passenger had a parent OR a child onboard. Of course, there seems to be many cases in which the number of children outweighs the number of parents. But as the data shows, a person is much more likely to be a child than a parent whenever the Parch column is greater than 0."
   ]
  },
  {
   "cell_type": "code",
   "execution_count": 21,
   "metadata": {},
   "outputs": [
    {
     "name": "stdout",
     "output_type": "stream",
     "text": [
      "Second Class Mean (Passengers with a parent or child)\n"
     ]
    },
    {
     "data": {
      "text/plain": [
       "count    50.000000\n",
       "mean     21.996600\n",
       "std      16.229575\n",
       "min       0.670000\n",
       "25%       5.250000\n",
       "50%      24.000000\n",
       "75%      33.000000\n",
       "max      60.000000\n",
       "Name: Age, dtype: float64"
      ]
     },
     "execution_count": 21,
     "metadata": {},
     "output_type": "execute_result"
    }
   ],
   "source": [
    "print('Second Class Mean (Passengers with a parent or child)')\n",
    "nonnull_age_df['Age'].loc[(nonnull_age_df['Pclass'] == 2) & (nonnull_age_df['Parch'] > 0)].describe()"
   ]
  },
  {
   "cell_type": "markdown",
   "metadata": {},
   "source": [
    "The mean is 21.996 for 2nd class passengers with a parent or child, we will round this up to 22."
   ]
  },
  {
   "cell_type": "code",
   "execution_count": 22,
   "metadata": {},
   "outputs": [
    {
     "name": "stdout",
     "output_type": "stream",
     "text": [
      "Third Class Mode (Passengers with a parent or child): 9.0\n"
     ]
    }
   ],
   "source": [
    "print('Third Class Mode (Passengers with a parent or child):',\n",
    "     nonnull_age_df['Age'].loc[(nonnull_age_df['Pclass'] == 3) & (nonnull_age_df['Parch'] > 0)].mode()[0])"
   ]
  },
  {
   "cell_type": "markdown",
   "metadata": {},
   "source": [
    "Mode age for third class passengers with a parent or child is 9 years old.\n",
    "\n",
    "Now we can get better estimates for other passengers."
   ]
  },
  {
   "cell_type": "code",
   "execution_count": 23,
   "metadata": {},
   "outputs": [
    {
     "name": "stdout",
     "output_type": "stream",
     "text": [
      "Description of 1st class family-less passenger age.\n"
     ]
    },
    {
     "data": {
      "text/plain": [
       "count    134.000000\n",
       "mean      39.906716\n",
       "std       13.394838\n",
       "min       16.000000\n",
       "25%       30.000000\n",
       "50%       38.000000\n",
       "75%       49.000000\n",
       "max       80.000000\n",
       "Name: Age, dtype: float64"
      ]
     },
     "execution_count": 23,
     "metadata": {},
     "output_type": "execute_result"
    }
   ],
   "source": [
    "print('Description of 1st class family-less passenger age.')\n",
    "nonnull_age_df['Age'].loc[(nonnull_age_df['Pclass'] == 1) & (nonnull_age_df['Parch'] == 0)].describe()"
   ]
  },
  {
   "cell_type": "markdown",
   "metadata": {},
   "source": [
    "The mean age for 1st-class passengers without parents or children aboard is 39.9, we will round this up to 40."
   ]
  },
  {
   "cell_type": "code",
   "execution_count": 24,
   "metadata": {},
   "outputs": [
    {
     "name": "stdout",
     "output_type": "stream",
     "text": [
      "Description of 2nd class family-less passenger age.\n"
     ]
    },
    {
     "data": {
      "text/plain": [
       "count    123.000000\n",
       "mean      33.081301\n",
       "std       11.609312\n",
       "min       14.000000\n",
       "25%       25.000000\n",
       "50%       30.000000\n",
       "75%       39.000000\n",
       "max       70.000000\n",
       "Name: Age, dtype: float64"
      ]
     },
     "execution_count": 24,
     "metadata": {},
     "output_type": "execute_result"
    }
   ],
   "source": [
    "print('Description of 2nd class family-less passenger age.')\n",
    "nonnull_age_df['Age'].loc[(nonnull_age_df['Pclass'] == 2) & (nonnull_age_df['Parch'] == 0)].describe()"
   ]
  },
  {
   "cell_type": "markdown",
   "metadata": {},
   "source": [
    "Second class family-less passengers will be given a 33."
   ]
  },
  {
   "cell_type": "code",
   "execution_count": 25,
   "metadata": {},
   "outputs": [
    {
     "name": "stdout",
     "output_type": "stream",
     "text": [
      "Description of 3rd class family-less passenger age.\n"
     ]
    },
    {
     "data": {
      "text/plain": [
       "count    264.000000\n",
       "mean      27.835227\n",
       "std       10.460696\n",
       "min        5.000000\n",
       "25%       21.000000\n",
       "50%       25.500000\n",
       "75%       32.000000\n",
       "max       74.000000\n",
       "Name: Age, dtype: float64"
      ]
     },
     "execution_count": 25,
     "metadata": {},
     "output_type": "execute_result"
    }
   ],
   "source": [
    "print('Description of 3rd class family-less passenger age.')\n",
    "nonnull_age_df['Age'].loc[(nonnull_age_df['Pclass'] == 3) & (nonnull_age_df['Parch'] == 0)].describe()"
   ]
  },
  {
   "cell_type": "markdown",
   "metadata": {},
   "source": [
    "3rd class family-less passengers will receive a 28 for their age (rounded up from 27)."
   ]
  },
  {
   "cell_type": "code",
   "execution_count": 26,
   "metadata": {},
   "outputs": [],
   "source": [
    "#filling in age values for people with null age\n",
    "#using age values we have just identified for the relevant segments\n",
    "#if the age column is not null for a certain passenger, nothing is changed\n",
    "df['Age'] = sql('''\n",
    "                SELECT (\n",
    "                        CASE \n",
    "                             WHEN Age IS NULL AND (Pclass = 1) THEN 40\n",
    "                             WHEN Age IS NULL AND (Pclass = 2) AND (Parch = 0) THEN 33\n",
    "                             WHEN Age IS NULL AND (Pclass = 2) AND (Parch > 0) THEN 22\n",
    "                             WHEN Age IS NULL AND (Pclass = 3) AND (Parch = 0) THEN 27\n",
    "                             WHEN Age IS NULL AND (Pclass = 3) AND (Parch > 0) THEN 9\n",
    "                             ELSE Age\n",
    "                        END\n",
    "                        )\n",
    "                FROM df''')"
   ]
  },
  {
   "cell_type": "code",
   "execution_count": 27,
   "metadata": {},
   "outputs": [
    {
     "data": {
      "text/plain": [
       "0"
      ]
     },
     "execution_count": 27,
     "metadata": {},
     "output_type": "execute_result"
    }
   ],
   "source": [
    "#ensuring no nul values remain\n",
    "df['Age'].isnull().sum()"
   ]
  },
  {
   "cell_type": "markdown",
   "metadata": {},
   "source": [
    "Now we can get started on investigating the Cabin column.\n",
    "\n",
    "The cabin column actually contains very specific info, indicating the exact cabin that a person was assigned to. This on its own is not useful, but given our limited information on this column it might be useful to find out if theres is something meaningful to these null values. \n",
    "\n",
    "To better investigate that, I will replace the values within the Cabin column with 0 or 1. 0 indicates that there is no cabin information, and 1 indicates that there is. This will open doors for us to do correlatinal analysis and some other deeper dives."
   ]
  },
  {
   "cell_type": "code",
   "execution_count": 28,
   "metadata": {},
   "outputs": [],
   "source": [
    "#replacing cabin column values, indicating if the column is null or not\n",
    "df['Cabin'] = sql('''\n",
    "                  SELECT (CASE WHEN CABIN IS NULL THEN FALSE\n",
    "                               ELSE TRUE \n",
    "                          END)\n",
    "                  FROM df['Cabin']''')"
   ]
  },
  {
   "cell_type": "code",
   "execution_count": 29,
   "metadata": {},
   "outputs": [
    {
     "data": {
      "text/plain": [
       "0    687\n",
       "1    204\n",
       "Name: Cabin, dtype: int64"
      ]
     },
     "execution_count": 29,
     "metadata": {},
     "output_type": "execute_result"
    }
   ],
   "source": [
    "#checking if reassignmnet worked\n",
    "df['Cabin'].value_counts()"
   ]
  },
  {
   "cell_type": "code",
   "execution_count": 30,
   "metadata": {},
   "outputs": [
    {
     "data": {
      "text/plain": [
       "<matplotlib.axes._subplots.AxesSubplot at 0x1c18f5baf60>"
      ]
     },
     "execution_count": 30,
     "metadata": {},
     "output_type": "execute_result"
    },
    {
     "data": {
      "image/png": "[encoded data removed]",
      "text/plain": [
       "<Figure size 576x360 with 2 Axes>"
      ]
     },
     "metadata": {
      "needs_background": "light"
     },
     "output_type": "display_data"
    }
   ],
   "source": [
    "#plotting correlation heatmap\n",
    "plt.figure(figsize = (8,5))\n",
    "plt.title('Correlation Heatmap', size = 16)\n",
    "c = df.corr()\n",
    "\n",
    "sns.heatmap(c, cmap = 'BrBG', annot = True)"
   ]
  },
  {
   "cell_type": "markdown",
   "metadata": {},
   "source": [
    "There is a strong negative correlation with Pclass, a moderately positive correlation with Fare, a weaker correlation with Survived. The relationship with Fare won't tell us much, as it's likely a product of the strong relationship with Pclass. So we will begin with Pclass followed by Survived."
   ]
  },
  {
   "cell_type": "code",
   "execution_count": 31,
   "metadata": {},
   "outputs": [
    {
     "data": {
      "text/plain": [
       "<matplotlib.legend.Legend at 0x1c18f8c36a0>"
      ]
     },
     "execution_count": 31,
     "metadata": {},
     "output_type": "execute_result"
    },
    {
     "data": {
      "image/png": "[encoded data removed]",
      "text/plain": [
       "<Figure size 432x288 with 1 Axes>"
      ]
     },
     "metadata": {
      "needs_background": "light"
     },
     "output_type": "display_data"
    }
   ],
   "source": [
    "plt.title('Counts of Passengers with Cabin Information \\n By Class')\n",
    "\n",
    "g = sns.countplot(df['Cabin'], hue = df['Pclass'])\n",
    "\n",
    "plt.xlabel('Had Cabin Info?')\n",
    "\n",
    "g.set_xticklabels(['No', 'Yes'])\n",
    "\n",
    "plt.ylabel('Count')\n",
    "\n",
    "plt.legend(title = 'Class', labels = ['1st', '2nd', '3rd'])"
   ]
  },
  {
   "cell_type": "markdown",
   "metadata": {},
   "source": [
    "The vast majority of people in this data set did not have cabin information. Most of them also happened to be in third class, but we should keep in mind that most people aboard the Titanic in general were in third clas. However, those that did have cabin info were most often in 1st class. To get a better idea of those differences we should look at what proportion of passengers have cabin information by class."
   ]
  },
  {
   "cell_type": "code",
   "execution_count": 32,
   "metadata": {},
   "outputs": [],
   "source": [
    "#getting proportions of people with cabin info grouped by class\n",
    "cabin_proportions_df = sql('''\n",
    "                        SELECT Pclass, CABIN, (1 - CABIN) AS NO_CABIN\n",
    "                        FROM (SELECT Pclass, AVG(CASE WHEN Cabin = 0 THEN 0 ELSE 1 END) AS CABIN\n",
    "                              FROM df\n",
    "                              GROUP BY 1)\n",
    "                        ''')"
   ]
  },
  {
   "cell_type": "code",
   "execution_count": 33,
   "metadata": {},
   "outputs": [
    {
     "data": {
      "text/plain": [
       "[Text(0, 0, '1st'), Text(0, 0, '2nd'), Text(0, 0, '3rd')]"
      ]
     },
     "execution_count": 33,
     "metadata": {},
     "output_type": "execute_result"
    },
    {
     "data": {
      "image/png": "[encoded data removed]",
      "text/plain": [
       "<Figure size 576x288 with 2 Axes>"
      ]
     },
     "metadata": {
      "needs_background": "light"
     },
     "output_type": "display_data"
    }
   ],
   "source": [
    "fig, axs = plt.subplots(1, 2, figsize = (8,4), sharex = True, sharey = True, constrained_layout = True)\n",
    "\n",
    "fig.suptitle('Class Breakdown of Passengers by Cabin Info', size = 16)\n",
    "\n",
    "sns.barplot(cabin_proportions_df['Pclass'], cabin_proportions_df['CABIN'], ax = axs[0])\n",
    "sns.barplot(cabin_proportions_df['Pclass'], cabin_proportions_df['NO_CABIN'], ax = axs[1])\n",
    "\n",
    "axs[0].set_title('Have Cabin Info')\n",
    "axs[0].set_xlabel('Passenger Class')\n",
    "axs[0].set_ylabel('Proportion')\n",
    "axs[0].set_xticklabels(['1st', '2nd', '3rd'])\n",
    "\n",
    "axs[1].set_title('No Cabin Info')\n",
    "axs[1].set_xlabel('Passenger Class')\n",
    "axs[1].set_ylabel('Proportion')\n",
    "axs[1].set_xticklabels(['1st', '2nd', '3rd'])"
   ]
  },
  {
   "cell_type": "markdown",
   "metadata": {},
   "source": [
    "Over 95% of passengers in 3rd class lack passenger information. Similarly, over 90% of 2nd class passengers lack that same information. The only passengers who consistently have cabin info are passengers in 1st class.\n",
    "\n",
    "A 3rd class passenger could have been housed on one of four decks: D, E, F, or G deck. Their cabins were located in unfavorable areas of the ship, such as near boiler rooms or noise engines. In fact, G-deck was completely flooded within 10 minutes of collision with the iceberg; F-deck followed shortly after.\n",
    "\n",
    "Passengers in 2nd class were housed between D and F deck.\n",
    "\n",
    "While the correlation between survival and cabin info was weak, it may be worth looking at this discrepancy as a result of survival, meaning if the passenger did not survive, then their cabin data was not recorded."
   ]
  },
  {
   "cell_type": "code",
   "execution_count": 34,
   "metadata": {},
   "outputs": [
    {
     "data": {
      "text/plain": [
       "<matplotlib.legend.Legend at 0x1c18f98f4e0>"
      ]
     },
     "execution_count": 34,
     "metadata": {},
     "output_type": "execute_result"
    },
    {
     "data": {
      "image/png": "[encoded data removed]",
      "text/plain": [
       "<Figure size 432x288 with 1 Axes>"
      ]
     },
     "metadata": {
      "needs_background": "light"
     },
     "output_type": "display_data"
    }
   ],
   "source": [
    "plt.title('Count of Survival Outcomes by \\nPassengers With/Without Cabin Information', size = 14)\n",
    "\n",
    "g = sns.countplot(df['Survived'], hue = df['Cabin'])\n",
    "\n",
    "g.set_xticklabels(['Died', 'Survived'])\n",
    "\n",
    "plt.xlabel('Outcome', size = 12)\n",
    "plt.ylabel('Count', size = 12)\n",
    "\n",
    "plt.legend(title = 'Cabin Info?', labels = ['No', 'Yes'])"
   ]
  },
  {
   "cell_type": "code",
   "execution_count": 35,
   "metadata": {},
   "outputs": [
    {
     "name": "stdout",
     "output_type": "stream",
     "text": [
      "Death Count: 549 \n",
      "Survivor Count: 342\n"
     ]
    }
   ],
   "source": [
    "print('Death Count: {} \\nSurvivor Count: {}'.format(df['Survived'].value_counts()[0], \n",
    "                                                    df['Survived'].value_counts()[1]))\n"
   ]
  },
  {
   "cell_type": "code",
   "execution_count": 36,
   "metadata": {},
   "outputs": [
    {
     "name": "stdout",
     "output_type": "stream",
     "text": [
      "No Cabin-Info Count: 687 \n",
      "Had Cabin-Info Count: 204\n"
     ]
    }
   ],
   "source": [
    "print('No Cabin-Info Count: {} \\nHad Cabin-Info Count: {}'.format(df['Cabin'].value_counts()[0], \n",
    "                                                                  df['Cabin'].value_counts()[1]))"
   ]
  },
  {
   "cell_type": "markdown",
   "metadata": {},
   "source": [
    "There is not a perfect line-up between having cabin info and surviving. Judging from the raw counts of the values, it seems like 3rd class passangers were just less likely to have their cabin info taken. While this does somewhat line up with class and survival, the relationship is not very strong. This column will introduce more noise into our final model than anything, so this column should be dropped."
   ]
  },
  {
   "cell_type": "code",
   "execution_count": 37,
   "metadata": {},
   "outputs": [],
   "source": [
    "df.drop(columns = ['Cabin'], inplace = True)"
   ]
  },
  {
   "cell_type": "markdown",
   "metadata": {},
   "source": [
    "Now I want to better understand the Ticket column."
   ]
  },
  {
   "cell_type": "code",
   "execution_count": 38,
   "metadata": {},
   "outputs": [
    {
     "data": {
      "text/plain": [
       "681"
      ]
     },
     "execution_count": 38,
     "metadata": {},
     "output_type": "execute_result"
    }
   ],
   "source": [
    "df['Ticket'].nunique()"
   ]
  },
  {
   "cell_type": "markdown",
   "metadata": {},
   "source": [
    "Tickets do not seem to be entirely unique."
   ]
  },
  {
   "cell_type": "code",
   "execution_count": 39,
   "metadata": {},
   "outputs": [
    {
     "data": {
      "text/plain": [
       "1601            7\n",
       "CA. 2343        7\n",
       "347082          7\n",
       "3101295         6\n",
       "347088          6\n",
       "CA 2144         6\n",
       "382652          5\n",
       "S.O.C. 14879    5\n",
       "2666            4\n",
       "LINE            4\n",
       "19950           4\n",
       "113781          4\n",
       "17421           4\n",
       "W./C. 6608      4\n",
       "347077          4\n",
       "113760          4\n",
       "4133            4\n",
       "PC 17757        4\n",
       "349909          4\n",
       "C.A. 34651      3\n",
       "C.A. 31921      3\n",
       "248727          3\n",
       "110413          3\n",
       "230080          3\n",
       "345773          3\n",
       "347742          3\n",
       "PC 17755        3\n",
       "35273           3\n",
       "24160           3\n",
       "239853          3\n",
       "               ..\n",
       "27267           1\n",
       "349225          1\n",
       "229236          1\n",
       "111427          1\n",
       "392092          1\n",
       "7598            1\n",
       "113509          1\n",
       "33638           1\n",
       "2620            1\n",
       "349228          1\n",
       "A.5. 18509      1\n",
       "363294          1\n",
       "347068          1\n",
       "374910          1\n",
       "113028          1\n",
       "347087          1\n",
       "C 7077          1\n",
       "19952           1\n",
       "C.A. 33595      1\n",
       "244310          1\n",
       "2683            1\n",
       "36568           1\n",
       "3460            1\n",
       "350052          1\n",
       "28213           1\n",
       "7553            1\n",
       "PC 17473        1\n",
       "394140          1\n",
       "A/5 21173       1\n",
       "349219          1\n",
       "Name: Ticket, Length: 681, dtype: int64"
      ]
     },
     "execution_count": 39,
     "metadata": {},
     "output_type": "execute_result"
    }
   ],
   "source": [
    "df['Ticket'].value_counts()"
   ]
  },
  {
   "cell_type": "code",
   "execution_count": 40,
   "metadata": {},
   "outputs": [
    {
     "data": {
      "text/html": [
       "<div>\n",
       "<style scoped>\n",
       "    .dataframe tbody tr th:only-of-type {\n",
       "        vertical-align: middle;\n",
       "    }\n",
       "\n",
       "    .dataframe tbody tr th {\n",
       "        vertical-align: top;\n",
       "    }\n",
       "\n",
       "    .dataframe thead th {\n",
       "        text-align: right;\n",
       "    }\n",
       "</style>\n",
       "<table border=\"1\" class=\"dataframe\">\n",
       "  <thead>\n",
       "    <tr style=\"text-align: right;\">\n",
       "      <th></th>\n",
       "      <th>Survived</th>\n",
       "      <th>Pclass</th>\n",
       "      <th>Sex</th>\n",
       "      <th>Age</th>\n",
       "      <th>SibSp</th>\n",
       "      <th>Parch</th>\n",
       "      <th>Ticket</th>\n",
       "      <th>Fare</th>\n",
       "      <th>Embarked</th>\n",
       "    </tr>\n",
       "  </thead>\n",
       "  <tbody>\n",
       "    <tr>\n",
       "      <th>13</th>\n",
       "      <td>0</td>\n",
       "      <td>3</td>\n",
       "      <td>male</td>\n",
       "      <td>39.0</td>\n",
       "      <td>1</td>\n",
       "      <td>5</td>\n",
       "      <td>347082</td>\n",
       "      <td>31.275</td>\n",
       "      <td>S</td>\n",
       "    </tr>\n",
       "    <tr>\n",
       "      <th>119</th>\n",
       "      <td>0</td>\n",
       "      <td>3</td>\n",
       "      <td>female</td>\n",
       "      <td>2.0</td>\n",
       "      <td>4</td>\n",
       "      <td>2</td>\n",
       "      <td>347082</td>\n",
       "      <td>31.275</td>\n",
       "      <td>S</td>\n",
       "    </tr>\n",
       "    <tr>\n",
       "      <th>541</th>\n",
       "      <td>0</td>\n",
       "      <td>3</td>\n",
       "      <td>female</td>\n",
       "      <td>9.0</td>\n",
       "      <td>4</td>\n",
       "      <td>2</td>\n",
       "      <td>347082</td>\n",
       "      <td>31.275</td>\n",
       "      <td>S</td>\n",
       "    </tr>\n",
       "    <tr>\n",
       "      <th>542</th>\n",
       "      <td>0</td>\n",
       "      <td>3</td>\n",
       "      <td>female</td>\n",
       "      <td>11.0</td>\n",
       "      <td>4</td>\n",
       "      <td>2</td>\n",
       "      <td>347082</td>\n",
       "      <td>31.275</td>\n",
       "      <td>S</td>\n",
       "    </tr>\n",
       "    <tr>\n",
       "      <th>610</th>\n",
       "      <td>0</td>\n",
       "      <td>3</td>\n",
       "      <td>female</td>\n",
       "      <td>39.0</td>\n",
       "      <td>1</td>\n",
       "      <td>5</td>\n",
       "      <td>347082</td>\n",
       "      <td>31.275</td>\n",
       "      <td>S</td>\n",
       "    </tr>\n",
       "    <tr>\n",
       "      <th>813</th>\n",
       "      <td>0</td>\n",
       "      <td>3</td>\n",
       "      <td>female</td>\n",
       "      <td>6.0</td>\n",
       "      <td>4</td>\n",
       "      <td>2</td>\n",
       "      <td>347082</td>\n",
       "      <td>31.275</td>\n",
       "      <td>S</td>\n",
       "    </tr>\n",
       "    <tr>\n",
       "      <th>850</th>\n",
       "      <td>0</td>\n",
       "      <td>3</td>\n",
       "      <td>male</td>\n",
       "      <td>4.0</td>\n",
       "      <td>4</td>\n",
       "      <td>2</td>\n",
       "      <td>347082</td>\n",
       "      <td>31.275</td>\n",
       "      <td>S</td>\n",
       "    </tr>\n",
       "  </tbody>\n",
       "</table>\n",
       "</div>"
      ],
      "text/plain": [
       "     Survived  Pclass     Sex   Age  SibSp  Parch  Ticket    Fare Embarked\n",
       "13          0       3    male  39.0      1      5  347082  31.275        S\n",
       "119         0       3  female   2.0      4      2  347082  31.275        S\n",
       "541         0       3  female   9.0      4      2  347082  31.275        S\n",
       "542         0       3  female  11.0      4      2  347082  31.275        S\n",
       "610         0       3  female  39.0      1      5  347082  31.275        S\n",
       "813         0       3  female   6.0      4      2  347082  31.275        S\n",
       "850         0       3    male   4.0      4      2  347082  31.275        S"
      ]
     },
     "execution_count": 40,
     "metadata": {},
     "output_type": "execute_result"
    }
   ],
   "source": [
    "#checking a random observed ticket\n",
    "df.loc[df['Ticket'] == '347082']"
   ]
  },
  {
   "cell_type": "markdown",
   "metadata": {},
   "source": [
    "Seems like tickets get grouped up by family. We won't be needing this column or Fare, as the two are directly related. Both are likely better predicted with Pclass. These columns would just introduce more noise to the model.\n",
    "\n",
    "But this does beg the question: do family's have a better survival rate than single riders? This is something we will answer during EDA."
   ]
  },
  {
   "cell_type": "code",
   "execution_count": 41,
   "metadata": {},
   "outputs": [],
   "source": [
    "df.drop(columns = ['Ticket', 'Fare'], inplace = True)"
   ]
  },
  {
   "cell_type": "code",
   "execution_count": 42,
   "metadata": {
    "scrolled": true
   },
   "outputs": [
    {
     "data": {
      "text/html": [
       "<div>\n",
       "<style scoped>\n",
       "    .dataframe tbody tr th:only-of-type {\n",
       "        vertical-align: middle;\n",
       "    }\n",
       "\n",
       "    .dataframe tbody tr th {\n",
       "        vertical-align: top;\n",
       "    }\n",
       "\n",
       "    .dataframe thead th {\n",
       "        text-align: right;\n",
       "    }\n",
       "</style>\n",
       "<table border=\"1\" class=\"dataframe\">\n",
       "  <thead>\n",
       "    <tr style=\"text-align: right;\">\n",
       "      <th></th>\n",
       "      <th>Survived</th>\n",
       "      <th>Pclass</th>\n",
       "      <th>Sex</th>\n",
       "      <th>Age</th>\n",
       "      <th>SibSp</th>\n",
       "      <th>Parch</th>\n",
       "      <th>Embarked</th>\n",
       "    </tr>\n",
       "  </thead>\n",
       "  <tbody>\n",
       "    <tr>\n",
       "      <th>0</th>\n",
       "      <td>0</td>\n",
       "      <td>3</td>\n",
       "      <td>male</td>\n",
       "      <td>22.0</td>\n",
       "      <td>1</td>\n",
       "      <td>0</td>\n",
       "      <td>S</td>\n",
       "    </tr>\n",
       "    <tr>\n",
       "      <th>1</th>\n",
       "      <td>1</td>\n",
       "      <td>1</td>\n",
       "      <td>female</td>\n",
       "      <td>38.0</td>\n",
       "      <td>1</td>\n",
       "      <td>0</td>\n",
       "      <td>C</td>\n",
       "    </tr>\n",
       "    <tr>\n",
       "      <th>2</th>\n",
       "      <td>1</td>\n",
       "      <td>3</td>\n",
       "      <td>female</td>\n",
       "      <td>26.0</td>\n",
       "      <td>0</td>\n",
       "      <td>0</td>\n",
       "      <td>S</td>\n",
       "    </tr>\n",
       "    <tr>\n",
       "      <th>3</th>\n",
       "      <td>1</td>\n",
       "      <td>1</td>\n",
       "      <td>female</td>\n",
       "      <td>35.0</td>\n",
       "      <td>1</td>\n",
       "      <td>0</td>\n",
       "      <td>S</td>\n",
       "    </tr>\n",
       "    <tr>\n",
       "      <th>4</th>\n",
       "      <td>0</td>\n",
       "      <td>3</td>\n",
       "      <td>male</td>\n",
       "      <td>35.0</td>\n",
       "      <td>0</td>\n",
       "      <td>0</td>\n",
       "      <td>S</td>\n",
       "    </tr>\n",
       "  </tbody>\n",
       "</table>\n",
       "</div>"
      ],
      "text/plain": [
       "   Survived  Pclass     Sex   Age  SibSp  Parch Embarked\n",
       "0         0       3    male  22.0      1      0        S\n",
       "1         1       1  female  38.0      1      0        C\n",
       "2         1       3  female  26.0      0      0        S\n",
       "3         1       1  female  35.0      1      0        S\n",
       "4         0       3    male  35.0      0      0        S"
      ]
     },
     "execution_count": 42,
     "metadata": {},
     "output_type": "execute_result"
    }
   ],
   "source": [
    "df.head()"
   ]
  },
  {
   "cell_type": "markdown",
   "metadata": {},
   "source": [
    "Now that we have sufficiently cleaned our data and investigated null values, we can continue with exploratory data analysis."
   ]
  },
  {
   "cell_type": "markdown",
   "metadata": {},
   "source": [
    "### EDA\n",
    "\n",
    "First I want to start with some low hanging fruit by getting an idea for the survival rate under a couple of different segmentations. Particularly by Class, Sex, Point of Embarkment, and Age. \n",
    "\n",
    "Additionally, I aim to investigate if families had a better survival rate than single riders. If such a relationship was found, then we could engineer a new feature that could more easily denote this attribute. Lastly, I want to investigate if merely having a sibling or spouse onboard led to better survival outcomes.\n",
    "\n",
    "#### Passenger Class"
   ]
  },
  {
   "cell_type": "code",
   "execution_count": 43,
   "metadata": {},
   "outputs": [],
   "source": [
    "#getting survival outcome proportions grouped by passenger class\n",
    "class_proportions = (df['Survived'].groupby(df['Pclass']) #grouping\n",
    "                                 .value_counts(normalize = True) #calculating proportion\n",
    "                                 .rename('proportion') #renaming resulting column for compatibility with reset_index\n",
    "                                 .reset_index()) #turning result into a dataframe for easy visualization"
   ]
  },
  {
   "cell_type": "code",
   "execution_count": 44,
   "metadata": {},
   "outputs": [
    {
     "data": {
      "text/html": [
       "<div>\n",
       "<style scoped>\n",
       "    .dataframe tbody tr th:only-of-type {\n",
       "        vertical-align: middle;\n",
       "    }\n",
       "\n",
       "    .dataframe tbody tr th {\n",
       "        vertical-align: top;\n",
       "    }\n",
       "\n",
       "    .dataframe thead th {\n",
       "        text-align: right;\n",
       "    }\n",
       "</style>\n",
       "<table border=\"1\" class=\"dataframe\">\n",
       "  <thead>\n",
       "    <tr style=\"text-align: right;\">\n",
       "      <th></th>\n",
       "      <th>Pclass</th>\n",
       "      <th>Survived</th>\n",
       "      <th>proportion</th>\n",
       "    </tr>\n",
       "  </thead>\n",
       "  <tbody>\n",
       "    <tr>\n",
       "      <th>0</th>\n",
       "      <td>1</td>\n",
       "      <td>1</td>\n",
       "      <td>0.629630</td>\n",
       "    </tr>\n",
       "    <tr>\n",
       "      <th>1</th>\n",
       "      <td>1</td>\n",
       "      <td>0</td>\n",
       "      <td>0.370370</td>\n",
       "    </tr>\n",
       "    <tr>\n",
       "      <th>2</th>\n",
       "      <td>2</td>\n",
       "      <td>0</td>\n",
       "      <td>0.527174</td>\n",
       "    </tr>\n",
       "    <tr>\n",
       "      <th>3</th>\n",
       "      <td>2</td>\n",
       "      <td>1</td>\n",
       "      <td>0.472826</td>\n",
       "    </tr>\n",
       "    <tr>\n",
       "      <th>4</th>\n",
       "      <td>3</td>\n",
       "      <td>0</td>\n",
       "      <td>0.757637</td>\n",
       "    </tr>\n",
       "    <tr>\n",
       "      <th>5</th>\n",
       "      <td>3</td>\n",
       "      <td>1</td>\n",
       "      <td>0.242363</td>\n",
       "    </tr>\n",
       "  </tbody>\n",
       "</table>\n",
       "</div>"
      ],
      "text/plain": [
       "   Pclass  Survived  proportion\n",
       "0       1         1    0.629630\n",
       "1       1         0    0.370370\n",
       "2       2         0    0.527174\n",
       "3       2         1    0.472826\n",
       "4       3         0    0.757637\n",
       "5       3         1    0.242363"
      ]
     },
     "execution_count": 44,
     "metadata": {},
     "output_type": "execute_result"
    }
   ],
   "source": [
    "class_proportions"
   ]
  },
  {
   "cell_type": "code",
   "execution_count": 45,
   "metadata": {},
   "outputs": [
    {
     "data": {
      "text/plain": [
       "<matplotlib.legend.Legend at 0x1c190a42668>"
      ]
     },
     "execution_count": 45,
     "metadata": {},
     "output_type": "execute_result"
    },
    {
     "data": {
      "image/png": "[encoded data removed]",
      "text/plain": [
       "<Figure size 432x288 with 1 Axes>"
      ]
     },
     "metadata": {
      "needs_background": "light"
     },
     "output_type": "display_data"
    }
   ],
   "source": [
    "plt.title('Survival Outcome Breakdown by Passenger Class', size = 16)\n",
    "\n",
    "g = sns.barplot(x = 'Pclass', y = 'proportion', data = class_proportions , hue = 'Survived')\n",
    "\n",
    "plt.xlabel('Class', size = 12)\n",
    "plt.ylabel('Proportion', size = 12)\n",
    "\n",
    "g.set_xticklabels(['1st', '2nd', '3rd'])\n",
    "\n",
    "h, l = g.get_legend_handles_labels()\n",
    "\n",
    "g.legend(h, ['Died', 'Survived'],  title = 'Outcome')"
   ]
  },
  {
   "cell_type": "markdown",
   "metadata": {},
   "source": [
    "3rd class passengers saw the highest death rate, while 1st class passengers saw the highest survival rate. 2nd class passengers saw more deaths, but nearly as many survivals as well. This feature should definitely be included in the model.\n",
    "\n",
    "#### Gender\n",
    "We should understand if gender affected survival outcomes aboard the Titanic."
   ]
  },
  {
   "cell_type": "code",
   "execution_count": 46,
   "metadata": {},
   "outputs": [],
   "source": [
    "#proportion of survival outcomes broken down by gender\n",
    "sex_proportions = (df['Survived'].groupby(df['Sex'])\n",
    "                            .value_counts(normalize = True)\n",
    "                            .rename('proportion')\n",
    "                            .reset_index())"
   ]
  },
  {
   "cell_type": "code",
   "execution_count": 47,
   "metadata": {},
   "outputs": [
    {
     "data": {
      "text/html": [
       "<div>\n",
       "<style scoped>\n",
       "    .dataframe tbody tr th:only-of-type {\n",
       "        vertical-align: middle;\n",
       "    }\n",
       "\n",
       "    .dataframe tbody tr th {\n",
       "        vertical-align: top;\n",
       "    }\n",
       "\n",
       "    .dataframe thead th {\n",
       "        text-align: right;\n",
       "    }\n",
       "</style>\n",
       "<table border=\"1\" class=\"dataframe\">\n",
       "  <thead>\n",
       "    <tr style=\"text-align: right;\">\n",
       "      <th></th>\n",
       "      <th>Sex</th>\n",
       "      <th>Survived</th>\n",
       "      <th>proportion</th>\n",
       "    </tr>\n",
       "  </thead>\n",
       "  <tbody>\n",
       "    <tr>\n",
       "      <th>0</th>\n",
       "      <td>female</td>\n",
       "      <td>1</td>\n",
       "      <td>0.742038</td>\n",
       "    </tr>\n",
       "    <tr>\n",
       "      <th>1</th>\n",
       "      <td>female</td>\n",
       "      <td>0</td>\n",
       "      <td>0.257962</td>\n",
       "    </tr>\n",
       "    <tr>\n",
       "      <th>2</th>\n",
       "      <td>male</td>\n",
       "      <td>0</td>\n",
       "      <td>0.811092</td>\n",
       "    </tr>\n",
       "    <tr>\n",
       "      <th>3</th>\n",
       "      <td>male</td>\n",
       "      <td>1</td>\n",
       "      <td>0.188908</td>\n",
       "    </tr>\n",
       "  </tbody>\n",
       "</table>\n",
       "</div>"
      ],
      "text/plain": [
       "      Sex  Survived  proportion\n",
       "0  female         1    0.742038\n",
       "1  female         0    0.257962\n",
       "2    male         0    0.811092\n",
       "3    male         1    0.188908"
      ]
     },
     "execution_count": 47,
     "metadata": {},
     "output_type": "execute_result"
    }
   ],
   "source": [
    "sex_proportions"
   ]
  },
  {
   "cell_type": "code",
   "execution_count": 48,
   "metadata": {},
   "outputs": [
    {
     "data": {
      "text/plain": [
       "<matplotlib.legend.Legend at 0x1c190aba6a0>"
      ]
     },
     "execution_count": 48,
     "metadata": {},
     "output_type": "execute_result"
    },
    {
     "data": {
      "image/png": "[encoded data removed]",
      "text/plain": [
       "<Figure size 432x288 with 1 Axes>"
      ]
     },
     "metadata": {
      "needs_background": "light"
     },
     "output_type": "display_data"
    }
   ],
   "source": [
    "plt.title('Survival Outcome Breakdown by Gender', size = 16)\n",
    "\n",
    "g = sns.barplot(x = 'Sex', y = 'proportion', data = sex_proportions , hue = 'Survived')\n",
    "\n",
    "plt.xlabel('Gender', size = 12)\n",
    "plt.ylabel('Proportion', size = 12)\n",
    "\n",
    "g.set_xticklabels(['Female', 'Male'])\n",
    "\n",
    "h, l = g.get_legend_handles_labels()\n",
    "\n",
    "g.legend(h, ['Died', 'Survived'],  title = 'Outcome')"
   ]
  },
  {
   "cell_type": "markdown",
   "metadata": {},
   "source": [
    "Women saw a significantly higher survival rate than men. What were the ratios for this discrepancy?"
   ]
  },
  {
   "cell_type": "code",
   "execution_count": 49,
   "metadata": {},
   "outputs": [
    {
     "data": {
      "text/plain": [
       "12.3506625891947"
      ]
     },
     "execution_count": 49,
     "metadata": {},
     "output_type": "execute_result"
    }
   ],
   "source": [
    "#geting male and female death rate\n",
    "female_death_rate = sex_proportions.iloc[1, 2]/sex_proportions.iloc[0, 2]\n",
    "male_death_rate = sex_proportions.iloc[2, 2]/sex_proportions.iloc[3,2]\n",
    "\n",
    "#dividing male death rate by female death rate to get ratio between the two\n",
    "male_death_rate/female_death_rate"
   ]
  },
  {
   "cell_type": "code",
   "execution_count": 50,
   "metadata": {},
   "outputs": [
    {
     "name": "stdout",
     "output_type": "stream",
     "text": [
      "Male-to-Female death ratio:  12:1\n"
     ]
    }
   ],
   "source": [
    "print('Male-to-Female death ratio: ', \n",
    "      str(int(male_death_rate/female_death_rate)) + ':1')"
   ]
  },
  {
   "cell_type": "markdown",
   "metadata": {},
   "source": [
    "On the Titanic, for every woman that died, 12 men died (12.35 unrounded).\n",
    "\n",
    "We should test the significance of this difference using Chi-Square as it handles categorical data and will work well to tell us if these two groups differ significantly. From there, we will measure the magnitude of this difference using a measure of Phi."
   ]
  },
  {
   "cell_type": "code",
   "execution_count": 51,
   "metadata": {},
   "outputs": [
    {
     "data": {
      "text/plain": [
       "Sex     Survived\n",
       "female  0            81\n",
       "        1           233\n",
       "male    0           468\n",
       "        1           109\n",
       "dtype: int64"
      ]
     },
     "execution_count": 51,
     "metadata": {},
     "output_type": "execute_result"
    }
   ],
   "source": [
    "#temp table for easy reference of our counts\n",
    "df.groupby(['Sex', 'Survived']).size()"
   ]
  },
  {
   "cell_type": "markdown",
   "metadata": {},
   "source": [
    "Chi2_contingency is useful in that we only have to provide observed frequencies in the form of a contingency table. This test is testing our hypothesis of independence between the observed frequencies we provide. Expected frquencies are then returned using the marginal sums under the assumption of independence. Then we can get the size of the effect using Phi:\n",
    "\n",
    "![](https://i1.wp.com/www.real-statistics.com/wp-content/uploads/2012/12/phi-effect-size.png)\n",
    "\n",
    "To get Phi, we only have to divide our chi-square by the sample size and take the square root of the quotient. A phi of 0.1 is considered a small effect, 0.3 a medium effect, and phi over 0.5 are considered large effects."
   ]
  },
  {
   "cell_type": "code",
   "execution_count": 52,
   "metadata": {},
   "outputs": [],
   "source": [
    "#running chi square test for family membership and survival outcomes\n",
    "def chi_2x2(obs):\n",
    "    \n",
    "    chi, p, dof, expected = chi2_contingency(obs)\n",
    "\n",
    "    phi = np.sqrt(chi/sum(obs.ravel()))\n",
    "    \n",
    "    print('Chi-Square Test Statistic:',chi)\n",
    "    print('P-Value:', p)\n",
    "    print('Significant at Alpha = 0.05?:', p < 0.05)\n",
    "    print('\\n')\n",
    "    print('Expected Frequencies:')\n",
    "    print(expected)\n",
    "    print('\\n')\n",
    "    print('Observed Frequencies:')\n",
    "    print(obs)\n",
    "    print('\\n')\n",
    "    print('Phi Effect Size:', phi)"
   ]
  },
  {
   "cell_type": "code",
   "execution_count": 53,
   "metadata": {},
   "outputs": [],
   "source": [
    "#array of our observations\n",
    "obs_sex = np.array([[81, 233], [468, 109]])"
   ]
  },
  {
   "cell_type": "code",
   "execution_count": 54,
   "metadata": {},
   "outputs": [
    {
     "name": "stdout",
     "output_type": "stream",
     "text": [
      "CHI-SQUARE FOR GENDER AND SURVIVAL OUTCOME\n",
      "Chi-Square Test Statistic: 260.71702016732104\n",
      "P-Value: 1.1973570627755645e-58\n",
      "Significant at Alpha = 0.05?: True\n",
      "\n",
      "\n",
      "Expected Frequencies:\n",
      "[[193.47474747 120.52525253]\n",
      " [355.52525253 221.47474747]]\n",
      "\n",
      "\n",
      "Observed Frequencies:\n",
      "[[ 81 233]\n",
      " [468 109]]\n",
      "\n",
      "\n",
      "Phi Effect Size: 0.5409359434469282\n"
     ]
    }
   ],
   "source": [
    "print('CHI-SQUARE FOR GENDER AND SURVIVAL OUTCOME')\n",
    "chi_2x2(obs_sex)"
   ]
  },
  {
   "cell_type": "markdown",
   "metadata": {},
   "source": [
    "The difference is highly significant and the effect size is quite large. We can say with confidence that women were more likely to survive than men on the Titanic. This will be an important feature to include in our model.\n",
    "\n",
    "Referring back to our earlier hypothesis on genders effect on survival outcome, with these results we can reject H<sub>0</sub> in favor of the alternative hypothesis:\n",
    "\n",
    "H<sub>a</sub>: Men and Women differed in their likelihood for survival.\n",
    "\n",
    "#### Point of Embarkment\n",
    "Next we should investigate the point of embarkment column to see if relationships exist. Perhaps certain types of passangers boarded at a particular stop that affected their survival outcome?"
   ]
  },
  {
   "cell_type": "code",
   "execution_count": 55,
   "metadata": {},
   "outputs": [],
   "source": [
    "#getting survival outcome proportions grouped by point of embarkment\n",
    "embarked_proportions = (df['Survived'].groupby(df['Embarked'])\n",
    "                                      .value_counts(normalize = True)\n",
    "                                      .rename('proportion')\n",
    "                                      .reset_index())"
   ]
  },
  {
   "cell_type": "code",
   "execution_count": 56,
   "metadata": {},
   "outputs": [
    {
     "data": {
      "text/html": [
       "<div>\n",
       "<style scoped>\n",
       "    .dataframe tbody tr th:only-of-type {\n",
       "        vertical-align: middle;\n",
       "    }\n",
       "\n",
       "    .dataframe tbody tr th {\n",
       "        vertical-align: top;\n",
       "    }\n",
       "\n",
       "    .dataframe thead th {\n",
       "        text-align: right;\n",
       "    }\n",
       "</style>\n",
       "<table border=\"1\" class=\"dataframe\">\n",
       "  <thead>\n",
       "    <tr style=\"text-align: right;\">\n",
       "      <th></th>\n",
       "      <th>Embarked</th>\n",
       "      <th>Survived</th>\n",
       "      <th>proportion</th>\n",
       "    </tr>\n",
       "  </thead>\n",
       "  <tbody>\n",
       "    <tr>\n",
       "      <th>0</th>\n",
       "      <td>C</td>\n",
       "      <td>1</td>\n",
       "      <td>0.553571</td>\n",
       "    </tr>\n",
       "    <tr>\n",
       "      <th>1</th>\n",
       "      <td>C</td>\n",
       "      <td>0</td>\n",
       "      <td>0.446429</td>\n",
       "    </tr>\n",
       "    <tr>\n",
       "      <th>2</th>\n",
       "      <td>Q</td>\n",
       "      <td>0</td>\n",
       "      <td>0.610390</td>\n",
       "    </tr>\n",
       "    <tr>\n",
       "      <th>3</th>\n",
       "      <td>Q</td>\n",
       "      <td>1</td>\n",
       "      <td>0.389610</td>\n",
       "    </tr>\n",
       "    <tr>\n",
       "      <th>4</th>\n",
       "      <td>S</td>\n",
       "      <td>0</td>\n",
       "      <td>0.663043</td>\n",
       "    </tr>\n",
       "    <tr>\n",
       "      <th>5</th>\n",
       "      <td>S</td>\n",
       "      <td>1</td>\n",
       "      <td>0.336957</td>\n",
       "    </tr>\n",
       "  </tbody>\n",
       "</table>\n",
       "</div>"
      ],
      "text/plain": [
       "  Embarked  Survived  proportion\n",
       "0        C         1    0.553571\n",
       "1        C         0    0.446429\n",
       "2        Q         0    0.610390\n",
       "3        Q         1    0.389610\n",
       "4        S         0    0.663043\n",
       "5        S         1    0.336957"
      ]
     },
     "execution_count": 56,
     "metadata": {},
     "output_type": "execute_result"
    }
   ],
   "source": [
    "embarked_proportions"
   ]
  },
  {
   "cell_type": "code",
   "execution_count": 57,
   "metadata": {},
   "outputs": [
    {
     "data": {
      "text/plain": [
       "<matplotlib.legend.Legend at 0x1c18f85dba8>"
      ]
     },
     "execution_count": 57,
     "metadata": {},
     "output_type": "execute_result"
    },
    {
     "data": {
      "image/png": "[encoded data removed]",
      "text/plain": [
       "<Figure size 432x288 with 1 Axes>"
      ]
     },
     "metadata": {
      "needs_background": "light"
     },
     "output_type": "display_data"
    }
   ],
   "source": [
    "plt.title('Survival Outcome Breakdown by Point of Embarkment', size = 14)\n",
    "\n",
    "g = sns.barplot(x = 'Embarked', y = 'proportion', \n",
    "                data = embarked_proportions , \n",
    "                hue = 'Survived',\n",
    "                order = ['S', 'C', 'Q'])\n",
    "\n",
    "plt.xlabel('Point of Embarkment', size = 12)\n",
    "plt.ylabel('Proportion', size = 12)\n",
    "\n",
    "g.set_xticklabels(['Southampton', 'Cherbourg', 'Queenstown'])\n",
    "\n",
    "h, l = g.get_legend_handles_labels()\n",
    "\n",
    "g.legend(h, ['Died', 'Survived'],  title = 'Outcome')"
   ]
  },
  {
   "cell_type": "markdown",
   "metadata": {},
   "source": [
    "Passengers coming from Queenstown or Southampton saw higher death rates than those coming from Cherbourg. In fact, Cherbourg passengers had a slightly higher proportion of survivors.\n",
    "\n",
    "Point of embarkment alone cannot explain this, so more investigation is necessary. As we saw earlier, class seemed to be highly associated with a passengers survival. Thus we can begin with comparing the class-composition of each embarkment point."
   ]
  },
  {
   "cell_type": "code",
   "execution_count": 58,
   "metadata": {},
   "outputs": [
    {
     "data": {
      "text/plain": [
       "<matplotlib.legend.Legend at 0x1c190b0b668>"
      ]
     },
     "execution_count": 58,
     "metadata": {},
     "output_type": "execute_result"
    },
    {
     "data": {
      "image/png": "[encoded data removed]",
      "text/plain": [
       "<Figure size 432x288 with 1 Axes>"
      ]
     },
     "metadata": {
      "needs_background": "light"
     },
     "output_type": "display_data"
    }
   ],
   "source": [
    "plt.title('Raw Counts of Passengers by Point of Embarkment', size = 16)\n",
    "\n",
    "g = sns.countplot('Embarked', data = df, hue = 'Pclass', order = ['S', 'C', 'Q'])\n",
    "\n",
    "plt.xlabel('Point of Embarkment', size = 12)\n",
    "plt.ylabel('Count', size = 12)\n",
    "\n",
    "g.set_xticklabels(['Southampton', 'Cherbourg', 'Queenstown'])\n",
    "\n",
    "g.legend(title = 'Class', labels = ['1st', '2nd', '3rd'])"
   ]
  },
  {
   "cell_type": "markdown",
   "metadata": {},
   "source": [
    "Most passengers boarded at Southampton, and Cherbourg saw a higher count of 1st class passengers. Queenstown saw primarily 3rd class passengers. What was the proportional breakdown of class for each embarkment point?"
   ]
  },
  {
   "cell_type": "code",
   "execution_count": 59,
   "metadata": {},
   "outputs": [],
   "source": [
    "embarked_classes = (df['Pclass'].groupby(df['Embarked'])\n",
    "                                      .value_counts(normalize = True)\n",
    "                                      .rename('proportion')\n",
    "                                      .reset_index())"
   ]
  },
  {
   "cell_type": "code",
   "execution_count": 60,
   "metadata": {},
   "outputs": [
    {
     "data": {
      "text/plain": [
       "<matplotlib.legend.Legend at 0x1c18f2b3d68>"
      ]
     },
     "execution_count": 60,
     "metadata": {},
     "output_type": "execute_result"
    },
    {
     "data": {
      "image/png": "[encoded data removed]",
      "text/plain": [
       "<Figure size 432x288 with 1 Axes>"
      ]
     },
     "metadata": {
      "needs_background": "light"
     },
     "output_type": "display_data"
    }
   ],
   "source": [
    "plt.title('Proportion of Passenger Classes Boarded by Point of Embarkment', size = 16)\n",
    "\n",
    "g = sns.barplot(x = 'Embarked', y = 'proportion', data = embarked_classes, hue = 'Pclass', order = ['S', 'C', 'Q'])\n",
    "\n",
    "\n",
    "plt.xlabel('Point of Embarkment', size = 12)\n",
    "plt.ylabel('Count', size = 12)\n",
    "\n",
    "h, l = g.get_legend_handles_labels()\n",
    "\n",
    "g.set_xticklabels(['Southampton', 'Cherbourg', 'Queenstown'])\n",
    "\n",
    "g.legend(h, ['1st', '2nd', '3rd'], title = 'Class')"
   ]
  },
  {
   "cell_type": "markdown",
   "metadata": {},
   "source": [
    "Southampton saw primarily 3rd class passengers, but with a few 1st and 2nd class passengers as well. Cherbourg saw a high proportion of 1st class passenger with a comparable amount of 3rd class passengers. Lastly, Queenstown saw 3rd class passengers the ship almost exclusively.\n",
    "\n",
    "To recap: Southampton is actually where the brunt of Titanic passengers boarded the ship. Cherbourg is a city in France that saw a larger proportion of high-class passengers board the ship. Queenstown saw only a handful off upper-class passengers, the vast majority were in third class. \n",
    "\n",
    "These facts explain why we saw the discrepancy in deaths initially, as this pattern of embarkment is more so a pattern of class. For this reason, it may be worth dropping the Embarked column as it can introduce noise to our final model.\n",
    "\n",
    "#### Parents/Children\n",
    "\n",
    "Now we will investigate if families saw a better survival rate than people without families. For convenience I will refer to the family-less as \"singles\" though I am aware that these individuals may have a spouse or sibling onboard. Families will be considered as a parent with at least one child, or a child with at least one parent. Our family-less passengers may have siblings onboard but these riders are likely older and riding without parental supervision. I aim to encapture family in the sense of a mother, father, and children, rather than two siblings on vacation."
   ]
  },
  {
   "cell_type": "code",
   "execution_count": 61,
   "metadata": {},
   "outputs": [],
   "source": [
    "#passengers with at least one child or at least one parent\n",
    "families = df.loc[df['Parch'] > 1]\n",
    "\n",
    "#passengers with no parents or children aboard\n",
    "singles = df.loc[df['Parch'] == 0]"
   ]
  },
  {
   "cell_type": "code",
   "execution_count": 62,
   "metadata": {},
   "outputs": [],
   "source": [
    "#survival rates of the respective groups\n",
    "fam_survival = families['Survived'].value_counts(normalize = True).rename('proportion').reset_index()\n",
    "single_survival = singles['Survived'].value_counts(normalize = True).rename('proportion').reset_index()"
   ]
  },
  {
   "cell_type": "code",
   "execution_count": 63,
   "metadata": {},
   "outputs": [
    {
     "data": {
      "text/html": [
       "<div>\n",
       "<style scoped>\n",
       "    .dataframe tbody tr th:only-of-type {\n",
       "        vertical-align: middle;\n",
       "    }\n",
       "\n",
       "    .dataframe tbody tr th {\n",
       "        vertical-align: top;\n",
       "    }\n",
       "\n",
       "    .dataframe thead th {\n",
       "        text-align: right;\n",
       "    }\n",
       "</style>\n",
       "<table border=\"1\" class=\"dataframe\">\n",
       "  <thead>\n",
       "    <tr style=\"text-align: right;\">\n",
       "      <th></th>\n",
       "      <th>index</th>\n",
       "      <th>proportion</th>\n",
       "    </tr>\n",
       "  </thead>\n",
       "  <tbody>\n",
       "    <tr>\n",
       "      <th>0</th>\n",
       "      <td>0</td>\n",
       "      <td>0.536842</td>\n",
       "    </tr>\n",
       "    <tr>\n",
       "      <th>1</th>\n",
       "      <td>1</td>\n",
       "      <td>0.463158</td>\n",
       "    </tr>\n",
       "  </tbody>\n",
       "</table>\n",
       "</div>"
      ],
      "text/plain": [
       "   index  proportion\n",
       "0      0    0.536842\n",
       "1      1    0.463158"
      ]
     },
     "execution_count": 63,
     "metadata": {},
     "output_type": "execute_result"
    }
   ],
   "source": [
    "fam_survival"
   ]
  },
  {
   "cell_type": "code",
   "execution_count": 64,
   "metadata": {},
   "outputs": [
    {
     "data": {
      "text/plain": [
       "[Text(0, 0, 'Died'), Text(0, 0, 'Survived')]"
      ]
     },
     "execution_count": 64,
     "metadata": {},
     "output_type": "execute_result"
    },
    {
     "data": {
      "image/png": "[encoded data removed]",
      "text/plain": [
       "<Figure size 432x288 with 2 Axes>"
      ]
     },
     "metadata": {
      "needs_background": "light"
     },
     "output_type": "display_data"
    }
   ],
   "source": [
    "fig, axs = plt.subplots(1, 2, sharex = True, sharey = True, constrained_layout = True)\n",
    "\n",
    "fig.suptitle('Survival Proportions for Passenger \\nWith Families vs. Without Families', size = 14)\n",
    "\n",
    "sns.barplot('index', y = 'proportion', data = fam_survival, ax = axs[0])\n",
    "sns.barplot('index', y = 'proportion', data = single_survival,  ax = axs[1])\n",
    "\n",
    "axs[0].set_title('With Families')\n",
    "axs[0].set_xlabel('Outcome')\n",
    "axs[0].set_ylabel('Proportion of Passengers')\n",
    "axs[0].set_xticklabels(['Died', 'Survived'])\n",
    "\n",
    "\n",
    "axs[1].set_title('Without Families')\n",
    "axs[1].set_xlabel('Outcome')\n",
    "axs[1].set_ylabel('Proportion of Passengers')\n",
    "axs[1].set_xticklabels(['Died', 'Survived'])"
   ]
  },
  {
   "cell_type": "markdown",
   "metadata": {},
   "source": [
    "It seems like individuals with families saw more survival outcomes that individuals without families. Let's investigate their death rates and see the resulting ratio."
   ]
  },
  {
   "cell_type": "code",
   "execution_count": 65,
   "metadata": {},
   "outputs": [
    {
     "name": "stdout",
     "output_type": "stream",
     "text": [
      "Death Rate for Members of Families: 1.16\n",
      "Death Rate for Passengers without Family: 1.91\n"
     ]
    }
   ],
   "source": [
    "fam_deaths = fam_survival.iloc[0, 1]/fam_survival.iloc[1,1]\n",
    "print('Death Rate for Members of Families:', round(fam_deaths, 2))\n",
    "\n",
    "singles_deaths = single_survival.iloc[0, 1]/single_survival.iloc[1,1]\n",
    "print('Death Rate for Passengers without Family:', round(singles_deaths, 2))"
   ]
  },
  {
   "cell_type": "markdown",
   "metadata": {},
   "source": [
    "Passengers with family aboard: 1.16 deaths for every survivor.\n",
    "\n",
    "Passengers with no family aboard: 1.91 deaths for every survivor."
   ]
  },
  {
   "cell_type": "code",
   "execution_count": 66,
   "metadata": {},
   "outputs": [
    {
     "name": "stdout",
     "output_type": "stream",
     "text": [
      "Family-less to Family-having Death Ratio: 1.65:1\n"
     ]
    }
   ],
   "source": [
    "print('Family-less to Family-having Death Ratio:', str(round(singles_deaths/fam_deaths, 2)) + ':1')"
   ]
  },
  {
   "cell_type": "markdown",
   "metadata": {},
   "source": [
    "Individuals traveling without families (as operationalized) were 1.64 times more likely to die on the Titanic than individuals who WERE travelling with family.\n",
    "\n",
    "This discrepancy seems more nuanced than the difference that was observed for gender. We should run an additional chi-square test followed by another measure of Phi. We will be reusing both as we are still dealing with categorical variables in a 2x2 table.\n",
    "\n",
    "As the Parch column currently stands, data varies greatly. A parent may have 2, 3, or even 4 kids, but we wish to bucket these cases into one. So if an individual has a family, we will tag them with a corresponding binary indicator such as 0 or 1. This also helps control for outliers as there are likely very few cases of families with a Parch value of 5 or 6 for example. "
   ]
  },
  {
   "cell_type": "code",
   "execution_count": 67,
   "metadata": {},
   "outputs": [],
   "source": [
    "#assigning a binary indicator to denote if a passenger had family aboard\n",
    "df['Parch_bin'] = sql('''\n",
    "                      SELECT (CASE WHEN Parch = 0 THEN 0\n",
    "                                   ELSE 1 END)\n",
    "                      FROM df['Parch']\n",
    "                      ''')"
   ]
  },
  {
   "cell_type": "code",
   "execution_count": 68,
   "metadata": {},
   "outputs": [
    {
     "data": {
      "text/plain": [
       "Parch_bin  Survived\n",
       "0          0           445\n",
       "           1           233\n",
       "1          0           104\n",
       "           1           109\n",
       "dtype: int64"
      ]
     },
     "execution_count": 68,
     "metadata": {},
     "output_type": "execute_result"
    }
   ],
   "source": [
    "df.groupby(['Parch_bin', 'Survived']).size()"
   ]
  },
  {
   "cell_type": "code",
   "execution_count": 69,
   "metadata": {},
   "outputs": [],
   "source": [
    "#filling the observations array\n",
    "obs_parch = np.array([[445, 233], [104, 109]])"
   ]
  },
  {
   "cell_type": "code",
   "execution_count": 70,
   "metadata": {},
   "outputs": [
    {
     "name": "stdout",
     "output_type": "stream",
     "text": [
      "CHI-SQUARE FOR FAMILY MEMBERSHIP AND SURVIVAL OUTCOME\n",
      "\n",
      "\n",
      "Chi-Square Test Statistic: 18.656359965476746\n",
      "P-Value: 1.5652427255789984e-05\n",
      "Significant at Alpha = 0.05?: True\n",
      "\n",
      "\n",
      "Expected Frequencies:\n",
      "[[417.75757576 260.24242424]\n",
      " [131.24242424  81.75757576]]\n",
      "\n",
      "\n",
      "Observed Frequencies:\n",
      "[[445 233]\n",
      " [104 109]]\n",
      "\n",
      "\n",
      "Phi Effect Size: 0.1447020235055325\n"
     ]
    }
   ],
   "source": [
    "print('CHI-SQUARE FOR FAMILY MEMBERSHIP AND SURVIVAL OUTCOME')\n",
    "print('\\n')\n",
    "chi_2x2(obs_parch)"
   ]
  },
  {
   "cell_type": "markdown",
   "metadata": {},
   "source": [
    "Though our result is statistically significant, it seems like we only have a small effect size. This is still something to be considered and I will be including this in the final model. Additionally, now we have a new column, Parch_bin, that will likely be more useful in our final model than the potential outliers that less-common family sizes could introduce.\n",
    "\n",
    "#### Age\n",
    "Though no correlation was observed, we will analyze age to ensure we are not overlooking anything."
   ]
  },
  {
   "cell_type": "code",
   "execution_count": 71,
   "metadata": {},
   "outputs": [
    {
     "data": {
      "image/png": "[encoded data removed]",
      "text/plain": [
       "<Figure size 360x360 with 1 Axes>"
      ]
     },
     "metadata": {
      "needs_background": "light"
     },
     "output_type": "display_data"
    }
   ],
   "source": [
    "g = sns.catplot(x = 'Survived', y = 'Age', data = df, kind = 'swarm')\n",
    "\n",
    "plt.title('Count Distribution of Age by Survival Outcome', size = 16)\n",
    "\n",
    "g.set_xticklabels(['Died', 'Survived'])\n",
    "\n",
    "plt.xlabel('Outcome', size = 12)\n",
    "plt.ylabel('Age', size = 12)\n",
    "\n",
    "plt.grid(axis = 'x')"
   ]
  },
  {
   "cell_type": "markdown",
   "metadata": {},
   "source": [
    "It seems as though death did not discriminate by age on the Titanic. It does seem that children under 10 years old saw a few more survivals, and slightly more elderly folk died, but the vast majority appear to have a very similar distribution. To be certain, we can compare the two distributions to see if they differ significantly. To do this, I will isolate the age distributions of the dead and the survivors, and compare the two samples with a t-test."
   ]
  },
  {
   "cell_type": "code",
   "execution_count": 72,
   "metadata": {},
   "outputs": [
    {
     "name": "stderr",
     "output_type": "stream",
     "text": [
      "C:\\Users\\BALTHASAR - 02\\Anaconda3\\lib\\site-packages\\scipy\\stats\\stats.py:1713: FutureWarning: Using a non-tuple sequence for multidimensional indexing is deprecated; use `arr[tuple(seq)]` instead of `arr[seq]`. In the future this will be interpreted as an array index, `arr[np.array(seq)]`, which will result either in an error or a different result.\n",
      "  return np.add.reduce(sorted[indexer] * weights, axis=axis) / sumval\n"
     ]
    },
    {
     "data": {
      "image/png": "[encoded data removed]",
      "text/plain": [
       "<Figure size 576x360 with 2 Axes>"
      ]
     },
     "metadata": {
      "needs_background": "light"
     },
     "output_type": "display_data"
    }
   ],
   "source": [
    "dead = df.loc[df['Survived'] == 0]\n",
    "survived = df.loc[df['Survived'] == 1]\n",
    "\n",
    "fig, axs = plt.subplots(1, 2, figsize = (8,5), sharex = True, sharey = True)\n",
    "\n",
    "fig.suptitle('Age Frequency Distribution by Survival Outcome', size = 14)\n",
    "\n",
    "sns.distplot(dead['Age'][:], ax = axs[0])\n",
    "sns.distplot(survived['Age'][:], ax = axs[1])\n",
    "\n",
    "axs[0].set_title('Dead')\n",
    "axs[0].grid()\n",
    "\n",
    "axs[1].set_title('Survivors')\n",
    "axs[1].grid()"
   ]
  },
  {
   "cell_type": "markdown",
   "metadata": {},
   "source": [
    "It appears as though there might be a small difference through this visualization. We can test this using a t-test. These distributions seem to resemble normal distributions, and the datatype is applicable, but it likely does not share equal variance so scaling is in order. We can just calculate the variance real quick to double-check."
   ]
  },
  {
   "cell_type": "code",
   "execution_count": 73,
   "metadata": {},
   "outputs": [
    {
     "name": "stdout",
     "output_type": "stream",
     "text": [
      "Dead Age Variance 171.50401292630107\n",
      "Survivor Age Variance 199.20526786105114\n"
     ]
    }
   ],
   "source": [
    "print('Dead Age Variance', np.var(dead['Age']))\n",
    "print('Survivor Age Variance', np.var(survived['Age']))"
   ]
  },
  {
   "cell_type": "markdown",
   "metadata": {},
   "source": [
    "To meet the final requirement for the t-test, we will have to scale the data to a variance of 1. This will get our distributions closer to normal, and be the last step needed for our t-test to give us the results we want to see."
   ]
  },
  {
   "cell_type": "code",
   "execution_count": 74,
   "metadata": {},
   "outputs": [],
   "source": [
    "#initializing scaler\n",
    "SS = StandardScaler()\n",
    "\n",
    "#scaling data\n",
    "scaled_dead = SS.fit_transform(dead['Age'].values.reshape(-1,1))\n",
    "scaled_survived = SS.fit_transform(survived['Age'].values.reshape(-1,1))\n",
    "\n",
    "#unpacking scaled data (currently contained as a list of lists)\n",
    "lst_dead = [val for item in scaled_dead for val in item]\n",
    "lst_survived = [val for item in scaled_survived for val in item]  "
   ]
  },
  {
   "cell_type": "code",
   "execution_count": 75,
   "metadata": {},
   "outputs": [
    {
     "name": "stdout",
     "output_type": "stream",
     "text": [
      "Dead Age Variance: 1.0\n",
      "Dead Age Mean: 8.412618911549456e-17\n",
      "Survivors Age Variance: 0.9999999999999999\n",
      "Survivors Age Mean: 1.1426856861639037e-16\n"
     ]
    }
   ],
   "source": [
    "print('Dead Age Variance:' , np.var(lst_dead))\n",
    "print('Dead Age Mean:', np.mean(lst_dead))\n",
    "\n",
    "print('Survivors Age Variance:' , np.var(lst_survived))\n",
    "print('Survivors Age Mean:', np.mean(lst_survived))"
   ]
  },
  {
   "cell_type": "code",
   "execution_count": 76,
   "metadata": {},
   "outputs": [
    {
     "name": "stdout",
     "output_type": "stream",
     "text": [
      "T-Statistic: -4.370689303125006e-16\n",
      "P-Value 0.9999999999999997\n",
      "Significant at Alpha = 0.05?: False\n"
     ]
    }
   ],
   "source": [
    "#running t-test\n",
    "t_stat, p_stat = ttest_ind(lst_dead, lst_survived)\n",
    "\n",
    "#printing results\n",
    "print('T-Statistic:', t_stat)\n",
    "print('P-Value', p_stat)\n",
    "print('Significant at Alpha = 0.05?:', p_stat < 0.05)"
   ]
  },
  {
   "cell_type": "markdown",
   "metadata": {},
   "source": [
    "Our t-test indicates that the two age distributions don't differ much at all. We shouldn't observe any meaningful differences in survival outcomes based on age. Given that, we can safely exclude age from our set of features.\n",
    "\n",
    "#### Sibling/Spouse\n",
    "The last feature to check is if a passenger had a sibling or spouse onboard. This seems like something that is better predicted by our Parch_bin feature, but we should check if differences exist, just to be sure."
   ]
  },
  {
   "cell_type": "code",
   "execution_count": 77,
   "metadata": {},
   "outputs": [],
   "source": [
    "#getting survival proportions for sibling/sposue count\n",
    "total_sibsp = (df['SibSp'].groupby(df['Survived'])\n",
    "                          .value_counts(normalize = True)\n",
    "                          .rename('proportion')\n",
    "                          .reset_index())"
   ]
  },
  {
   "cell_type": "code",
   "execution_count": 78,
   "metadata": {},
   "outputs": [
    {
     "data": {
      "text/plain": [
       "<matplotlib.legend.Legend at 0x1c190e3f0f0>"
      ]
     },
     "execution_count": 78,
     "metadata": {},
     "output_type": "execute_result"
    },
    {
     "data": {
      "image/png": "[encoded data removed]",
      "text/plain": [
       "<Figure size 432x288 with 1 Axes>"
      ]
     },
     "metadata": {
      "needs_background": "light"
     },
     "output_type": "display_data"
    }
   ],
   "source": [
    "plt.title('Survival Outcomes by Sibling/Spouse Count', size = 16)\n",
    "\n",
    "g = sns.barplot(x = 'SibSp', y = 'proportion', data = total_sibsp, hue = 'Survived')\n",
    "\n",
    "plt.xlabel('Sibling/Spouse Count', size = 12)\n",
    "plt.ylabel('Proportion of Passengers')\n",
    "\n",
    "h, l = g.get_legend_handles_labels()\n",
    "\n",
    "plt.legend(h, ['Died', 'Survived'], title = 'Outcome')"
   ]
  },
  {
   "cell_type": "markdown",
   "metadata": {},
   "source": [
    "The distributions do seem to differ very slightly, to be sure we can run a chi square test once more to see if this is a difference worth including. This likely has no effect. Again, we will be converting the SibSp column to a binary outcomes because we only care about if a passenger had siblings/a spouse onboard or not, not necessarily how many."
   ]
  },
  {
   "cell_type": "code",
   "execution_count": 79,
   "metadata": {},
   "outputs": [],
   "source": [
    "#sql to assign binary indicator, denoting if a passenger had a sibling or spouse onboard the ship\n",
    "df['SibSp_bin'] = sql('''\n",
    "                      SELECT (CASE WHEN SibSp = 0 THEN 0\n",
    "                                   ELSE 1 END)\n",
    "                      FROM df['SibSp']\n",
    "                      ''')"
   ]
  },
  {
   "cell_type": "code",
   "execution_count": 80,
   "metadata": {},
   "outputs": [
    {
     "data": {
      "text/plain": [
       "SibSp_bin  Survived\n",
       "0          0           398\n",
       "           1           210\n",
       "1          0           151\n",
       "           1           132\n",
       "dtype: int64"
      ]
     },
     "execution_count": 80,
     "metadata": {},
     "output_type": "execute_result"
    }
   ],
   "source": [
    "#displaying values\n",
    "df.groupby(['SibSp_bin', 'Survived']).size()"
   ]
  },
  {
   "cell_type": "code",
   "execution_count": 81,
   "metadata": {},
   "outputs": [
    {
     "name": "stdout",
     "output_type": "stream",
     "text": [
      "CHI SQUARE FOR SIBLING/SPOUSE AND SURVIVAL OUTCOME\n",
      "\n",
      "\n",
      "Chi-Square Test Statistic: 11.45562814125045\n",
      "P-Value: 0.0007127779147796147\n",
      "Significant at Alpha = 0.05?: True\n",
      "\n",
      "\n",
      "Expected Frequencies:\n",
      "[[374.62626263 233.37373737]\n",
      " [174.37373737 108.62626263]]\n",
      "\n",
      "\n",
      "Observed Frequencies:\n",
      "[[398 210]\n",
      " [151 132]]\n",
      "\n",
      "\n",
      "Phi Effect Size: 0.11338891557045129\n"
     ]
    }
   ],
   "source": [
    "#assigning values to an array\n",
    "obs_sibsp = np.array([[398, 210], [151,132]])\n",
    "\n",
    "print('CHI SQUARE FOR SIBLING/SPOUSE AND SURVIVAL OUTCOME')\n",
    "print('\\n')\n",
    "chi_2x2(obs_sibsp)"
   ]
  },
  {
   "cell_type": "markdown",
   "metadata": {},
   "source": [
    "There appears to be a small effect in survival rate depending on if a passenger had a sibling or spouse onboard the ship. Though this feature is very related to the Parch column, it does account for the case for siblings or spouses travelling without any children or parents. \n",
    "\n",
    "I think including this feature gives an added layer of complexity that may be useful as it accounts for cases where an individual was not travelling with family, but perhaps had a spouse or a sibling. Having such a relationship on board the ship could increase ones likelihood of survival in the sense that now they aren't working through the crisis alone. More help with getting through obstacles or calling for help may help explain the slightly better outcomes."
   ]
  },
  {
   "cell_type": "markdown",
   "metadata": {},
   "source": [
    "#### Summary of EDA\n",
    "\n",
    "We have identified passenger class, family-membership, and gender as useful features tha were highly predictive of survival outcomes. These features will be included in our model selection process, but all other features will be dropped as we no longer need them."
   ]
  },
  {
   "cell_type": "code",
   "execution_count": 82,
   "metadata": {},
   "outputs": [],
   "source": [
    "#dropping unneeded columns\n",
    "#sibsp and parch have been converted to binary outcomes\n",
    "df.drop(columns = ['SibSp', 'Parch', 'Embarked', 'Age'], inplace = True)"
   ]
  },
  {
   "cell_type": "markdown",
   "metadata": {},
   "source": [
    "### Model\n",
    "\n",
    "There are a couple different models that I believe would be appropriate here. Given the nature of our categorical outcomes, Naive-Bayes, Random Forest, and Logistic Regression are most appropriate. Another suitable alternative is XGBoost but that seems overly complex and taxing for getting the results we want.\n",
    "\n",
    "We will test all three models and compare them using a confusion matrix, and deriving our metrics from there. In a real-world scenario, we would want a model that could properly predict who was at most risk of death, so we would want good precision (proportion of correct true positives over all positives) and recall (proportion of true positives over true positives plus false negatives). Along with that, we should also be calculating F1 score as it tells us more about the accuracy of the test than a standard accuracy measure would.\n",
    "\n",
    "![](https://miro.medium.com/max/1050/1*j-AAfRjIzhjCnGFdbMoyTQ.jpeg_)\n",
    "\n",
    "We've identified sex, class, if the passenger had siblings or a spouse aboard the ship, and whether or not the individual was travelling with family (children or a parent) as useful predictors for survival."
   ]
  },
  {
   "cell_type": "code",
   "execution_count": 83,
   "metadata": {},
   "outputs": [],
   "source": [
    "#reading in test data\n",
    "test = pd.read_csv('test.csv')"
   ]
  },
  {
   "cell_type": "code",
   "execution_count": 84,
   "metadata": {},
   "outputs": [],
   "source": [
    "#quick clean of the test data\n",
    "test['Parch_bin'] = sql('''SELECT (CASE WHEN Parch == 0 THEN 0 ELSE 1 END)\n",
    "                                              \n",
    "                            FROM test['Parch']''')\n",
    "\n",
    "test['SibSp_bin'] = sql('''SELECT (CASE WHEN SibSp == 0 THEN 0 ELSE 1 END)\n",
    "                                              \n",
    "                            FROM test['SibSp']''')\n",
    "\n",
    "#converting sex column to binary for compatibility with models\n",
    "# 0 = Male, 1 = Female\n",
    "test['Sex'] = pd.get_dummies(test['Sex'])"
   ]
  },
  {
   "cell_type": "code",
   "execution_count": 85,
   "metadata": {},
   "outputs": [
    {
     "data": {
      "text/html": [
       "<div>\n",
       "<style scoped>\n",
       "    .dataframe tbody tr th:only-of-type {\n",
       "        vertical-align: middle;\n",
       "    }\n",
       "\n",
       "    .dataframe tbody tr th {\n",
       "        vertical-align: top;\n",
       "    }\n",
       "\n",
       "    .dataframe thead th {\n",
       "        text-align: right;\n",
       "    }\n",
       "</style>\n",
       "<table border=\"1\" class=\"dataframe\">\n",
       "  <thead>\n",
       "    <tr style=\"text-align: right;\">\n",
       "      <th></th>\n",
       "      <th>PassengerId</th>\n",
       "      <th>Pclass</th>\n",
       "      <th>Name</th>\n",
       "      <th>Sex</th>\n",
       "      <th>Age</th>\n",
       "      <th>SibSp</th>\n",
       "      <th>Parch</th>\n",
       "      <th>Ticket</th>\n",
       "      <th>Fare</th>\n",
       "      <th>Cabin</th>\n",
       "      <th>Embarked</th>\n",
       "      <th>Parch_bin</th>\n",
       "      <th>SibSp_bin</th>\n",
       "    </tr>\n",
       "  </thead>\n",
       "  <tbody>\n",
       "    <tr>\n",
       "      <th>0</th>\n",
       "      <td>892</td>\n",
       "      <td>3</td>\n",
       "      <td>Kelly, Mr. James</td>\n",
       "      <td>0</td>\n",
       "      <td>34.5</td>\n",
       "      <td>0</td>\n",
       "      <td>0</td>\n",
       "      <td>330911</td>\n",
       "      <td>7.8292</td>\n",
       "      <td>NaN</td>\n",
       "      <td>Q</td>\n",
       "      <td>0</td>\n",
       "      <td>0</td>\n",
       "    </tr>\n",
       "    <tr>\n",
       "      <th>1</th>\n",
       "      <td>893</td>\n",
       "      <td>3</td>\n",
       "      <td>Wilkes, Mrs. James (Ellen Needs)</td>\n",
       "      <td>1</td>\n",
       "      <td>47.0</td>\n",
       "      <td>1</td>\n",
       "      <td>0</td>\n",
       "      <td>363272</td>\n",
       "      <td>7.0000</td>\n",
       "      <td>NaN</td>\n",
       "      <td>S</td>\n",
       "      <td>0</td>\n",
       "      <td>1</td>\n",
       "    </tr>\n",
       "    <tr>\n",
       "      <th>2</th>\n",
       "      <td>894</td>\n",
       "      <td>2</td>\n",
       "      <td>Myles, Mr. Thomas Francis</td>\n",
       "      <td>0</td>\n",
       "      <td>62.0</td>\n",
       "      <td>0</td>\n",
       "      <td>0</td>\n",
       "      <td>240276</td>\n",
       "      <td>9.6875</td>\n",
       "      <td>NaN</td>\n",
       "      <td>Q</td>\n",
       "      <td>0</td>\n",
       "      <td>0</td>\n",
       "    </tr>\n",
       "    <tr>\n",
       "      <th>3</th>\n",
       "      <td>895</td>\n",
       "      <td>3</td>\n",
       "      <td>Wirz, Mr. Albert</td>\n",
       "      <td>0</td>\n",
       "      <td>27.0</td>\n",
       "      <td>0</td>\n",
       "      <td>0</td>\n",
       "      <td>315154</td>\n",
       "      <td>8.6625</td>\n",
       "      <td>NaN</td>\n",
       "      <td>S</td>\n",
       "      <td>0</td>\n",
       "      <td>0</td>\n",
       "    </tr>\n",
       "    <tr>\n",
       "      <th>4</th>\n",
       "      <td>896</td>\n",
       "      <td>3</td>\n",
       "      <td>Hirvonen, Mrs. Alexander (Helga E Lindqvist)</td>\n",
       "      <td>1</td>\n",
       "      <td>22.0</td>\n",
       "      <td>1</td>\n",
       "      <td>1</td>\n",
       "      <td>3101298</td>\n",
       "      <td>12.2875</td>\n",
       "      <td>NaN</td>\n",
       "      <td>S</td>\n",
       "      <td>1</td>\n",
       "      <td>1</td>\n",
       "    </tr>\n",
       "  </tbody>\n",
       "</table>\n",
       "</div>"
      ],
      "text/plain": [
       "   PassengerId  Pclass                                          Name  Sex  \\\n",
       "0          892       3                              Kelly, Mr. James    0   \n",
       "1          893       3              Wilkes, Mrs. James (Ellen Needs)    1   \n",
       "2          894       2                     Myles, Mr. Thomas Francis    0   \n",
       "3          895       3                              Wirz, Mr. Albert    0   \n",
       "4          896       3  Hirvonen, Mrs. Alexander (Helga E Lindqvist)    1   \n",
       "\n",
       "    Age  SibSp  Parch   Ticket     Fare Cabin Embarked  Parch_bin  SibSp_bin  \n",
       "0  34.5      0      0   330911   7.8292   NaN        Q          0          0  \n",
       "1  47.0      1      0   363272   7.0000   NaN        S          0          1  \n",
       "2  62.0      0      0   240276   9.6875   NaN        Q          0          0  \n",
       "3  27.0      0      0   315154   8.6625   NaN        S          0          0  \n",
       "4  22.0      1      1  3101298  12.2875   NaN        S          1          1  "
      ]
     },
     "execution_count": 85,
     "metadata": {},
     "output_type": "execute_result"
    }
   ],
   "source": [
    "test.head()"
   ]
  },
  {
   "cell_type": "code",
   "execution_count": 86,
   "metadata": {},
   "outputs": [
    {
     "data": {
      "text/html": [
       "<div>\n",
       "<style scoped>\n",
       "    .dataframe tbody tr th:only-of-type {\n",
       "        vertical-align: middle;\n",
       "    }\n",
       "\n",
       "    .dataframe tbody tr th {\n",
       "        vertical-align: top;\n",
       "    }\n",
       "\n",
       "    .dataframe thead th {\n",
       "        text-align: right;\n",
       "    }\n",
       "</style>\n",
       "<table border=\"1\" class=\"dataframe\">\n",
       "  <thead>\n",
       "    <tr style=\"text-align: right;\">\n",
       "      <th></th>\n",
       "      <th>Survived</th>\n",
       "      <th>Pclass</th>\n",
       "      <th>Sex</th>\n",
       "      <th>Parch_bin</th>\n",
       "      <th>SibSp_bin</th>\n",
       "    </tr>\n",
       "  </thead>\n",
       "  <tbody>\n",
       "    <tr>\n",
       "      <th>0</th>\n",
       "      <td>0</td>\n",
       "      <td>3</td>\n",
       "      <td>0</td>\n",
       "      <td>0</td>\n",
       "      <td>1</td>\n",
       "    </tr>\n",
       "    <tr>\n",
       "      <th>1</th>\n",
       "      <td>1</td>\n",
       "      <td>1</td>\n",
       "      <td>1</td>\n",
       "      <td>0</td>\n",
       "      <td>1</td>\n",
       "    </tr>\n",
       "    <tr>\n",
       "      <th>2</th>\n",
       "      <td>1</td>\n",
       "      <td>3</td>\n",
       "      <td>1</td>\n",
       "      <td>0</td>\n",
       "      <td>0</td>\n",
       "    </tr>\n",
       "    <tr>\n",
       "      <th>3</th>\n",
       "      <td>1</td>\n",
       "      <td>1</td>\n",
       "      <td>1</td>\n",
       "      <td>0</td>\n",
       "      <td>1</td>\n",
       "    </tr>\n",
       "    <tr>\n",
       "      <th>4</th>\n",
       "      <td>0</td>\n",
       "      <td>3</td>\n",
       "      <td>0</td>\n",
       "      <td>0</td>\n",
       "      <td>0</td>\n",
       "    </tr>\n",
       "  </tbody>\n",
       "</table>\n",
       "</div>"
      ],
      "text/plain": [
       "   Survived  Pclass  Sex  Parch_bin  SibSp_bin\n",
       "0         0       3    0          0          1\n",
       "1         1       1    1          0          1\n",
       "2         1       3    1          0          0\n",
       "3         1       1    1          0          1\n",
       "4         0       3    0          0          0"
      ]
     },
     "execution_count": 86,
     "metadata": {},
     "output_type": "execute_result"
    }
   ],
   "source": [
    "#converting sex column to binary for compatibility with models\n",
    "# 0 = Male, 1 = Female\n",
    "df['Sex'] = pd.get_dummies(df['Sex'])\n",
    "df.head()"
   ]
  },
  {
   "cell_type": "code",
   "execution_count": 87,
   "metadata": {},
   "outputs": [],
   "source": [
    "#feature space\n",
    "X = df[['Pclass', 'Sex', 'Parch_bin', 'SibSp_bin']]\n",
    "\n",
    "#target\n",
    "y = df['Survived']\n",
    "\n",
    "#creating training, validation, and test set\n",
    "X_train, X_val, y_train, y_val = train_test_split(X, y, test_size = 0.2)\n",
    "\n",
    "#relevant columns for test feature space\n",
    "X_test = test[['Pclass', 'Sex', 'Parch_bin', 'SibSp_bin']]"
   ]
  },
  {
   "cell_type": "code",
   "execution_count": 88,
   "metadata": {},
   "outputs": [],
   "source": [
    "def mod(mod):\n",
    "    \n",
    "    #fits inputted model\n",
    "    model = mod.fit(X_train, y_train)\n",
    "    \n",
    "    #predicts validation labels\n",
    "    y_val_pred = model.predict(X_val)\n",
    "    \n",
    "    #plots a confusion matrix of predicted and actual outcomes\n",
    "    cm = confusion_matrix(y_val_pred, y_val)\n",
    "    \n",
    "    #present confusion matrix as a heatmap\n",
    "    sns.heatmap(cm, \n",
    "            annot = True,\n",
    "            annot_kws = {\"size\": 16},\n",
    "            yticklabels = ['Negative', 'Positive'],\n",
    "            xticklabels = ['Neg. (Pred)', 'Pos. (Pred)'],\n",
    "            cmap = 'OrRd',\n",
    "               fmt = 'g')\n",
    "    \n",
    "    #getting counts True Negatives, False Positives, False Negatives, ad True Positives\n",
    "    tn, fp, fn, tp = cm.ravel()\n",
    "    \n",
    "    #model scoring metrics\n",
    "    score = model.score(X_val, y_val)\n",
    "    precision = tp/(tp + fp)\n",
    "    recall = tp/(tp + fn)\n",
    "    f1 = 2*((precision * recall)/ (precision + recall))\n",
    "    \n",
    "    #print results\n",
    "    print('PRECISION:', precision)\n",
    "    print('RECALL:', recall)\n",
    "    print('F1-SCORE:', f1)\n",
    "    print('ACCURACY:', score)"
   ]
  },
  {
   "cell_type": "markdown",
   "metadata": {},
   "source": [
    "#### Logistic Regression\n",
    "Using a sigmoid function, the logistic regression model will return a value within 0 and 1, leading to a binary prediction denoting what class a particular record belongs to. This model is simple yet powerful."
   ]
  },
  {
   "cell_type": "code",
   "execution_count": 89,
   "metadata": {},
   "outputs": [
    {
     "name": "stdout",
     "output_type": "stream",
     "text": [
      "PRECISION: 0.6805555555555556\n",
      "RECALL: 0.7424242424242424\n",
      "F1-SCORE: 0.7101449275362319\n",
      "ACCURACY: 0.776536312849162\n"
     ]
    },
    {
     "data": {
      "image/png": "[encoded data removed]",
      "text/plain": [
       "<Figure size 432x288 with 2 Axes>"
      ]
     },
     "metadata": {
      "needs_background": "light"
     },
     "output_type": "display_data"
    }
   ],
   "source": [
    "LR = LogisticRegression(penalty = 'l2', solver = 'liblinear', random_state = 20)\n",
    "mod(LR)"
   ]
  },
  {
   "cell_type": "markdown",
   "metadata": {},
   "source": [
    "90 true negative, 23 false positive, 17 false negative and 49 true positive."
   ]
  },
  {
   "cell_type": "markdown",
   "metadata": {},
   "source": [
    "Our precision seems to be bringing down our f1 score, meaning we're getting a lot of false positives. This isn't terrible, becuase being told you're going to die when in reality you wont has little consequences other than added stress. It is the opposite condition that we must be afraid of (false negatives). Our recall score, which measures false negatives, is a bit better but we should aim higher. The overall score seems alright, but again, we can do better."
   ]
  },
  {
   "cell_type": "markdown",
   "metadata": {},
   "source": [
    "#### Categorical Naive Bayes\n",
    "A version of the Naive Bayes classifier that works best with categorical data. In our case this is really useful as we are searhcing for binary outcomes. The model works by using Bayesian probability to both calculate priors and determine the probability that a given record belongs to a certain class. The class with the highest probability is assigned."
   ]
  },
  {
   "cell_type": "code",
   "execution_count": 90,
   "metadata": {},
   "outputs": [
    {
     "name": "stdout",
     "output_type": "stream",
     "text": [
      "PRECISION: 0.7083333333333334\n",
      "RECALL: 0.7285714285714285\n",
      "F1-SCORE: 0.7183098591549296\n",
      "ACCURACY: 0.776536312849162\n"
     ]
    },
    {
     "data": {
      "image/png": "[encoded data removed]",
      "text/plain": [
       "<Figure size 432x288 with 2 Axes>"
      ]
     },
     "metadata": {
      "needs_background": "light"
     },
     "output_type": "display_data"
    }
   ],
   "source": [
    "CNB = CategoricalNB()\n",
    "mod(CNB)"
   ]
  },
  {
   "cell_type": "markdown",
   "metadata": {},
   "source": [
    "The CNB performs better in recall and precision, leading to a better F1-score. Overall accuracy is about the same."
   ]
  },
  {
   "cell_type": "markdown",
   "metadata": {},
   "source": [
    "#### Random Forest Classifier\n",
    "The most complex of the three models. The RFC creates decision trees that each create splits based on how much information can be gained by a split. At the end, a vote is taken between all of the estimators and the recrd is classified with the majority vote."
   ]
  },
  {
   "cell_type": "code",
   "execution_count": 91,
   "metadata": {},
   "outputs": [
    {
     "name": "stdout",
     "output_type": "stream",
     "text": [
      "PRECISION: 0.6388888888888888\n",
      "RECALL: 0.7419354838709677\n",
      "F1-SCORE: 0.6865671641791045\n",
      "ACCURACY: 0.7653631284916201\n"
     ]
    },
    {
     "data": {
      "image/png": "[encoded data removed]",
      "text/plain": [
       "<Figure size 432x288 with 2 Axes>"
      ]
     },
     "metadata": {
      "needs_background": "light"
     },
     "output_type": "display_data"
    }
   ],
   "source": [
    "RFC = RandomForestClassifier(n_estimators = 10, criterion = 'entropy', random_state = 33)\n",
    "mod(RFC)"
   ]
  },
  {
   "cell_type": "markdown",
   "metadata": {},
   "source": [
    "The RFC performs marginally better than the CNB in recall, but is outclassed in every other category."
   ]
  },
  {
   "cell_type": "markdown",
   "metadata": {},
   "source": [
    "### Model Decision\n",
    "\n",
    "The Random Forest Classifier and Categorical Naive Bayes performed better than the Logistic Regression all-around. Though the CNB had the best precision, the RFC came out on top with the best recall, F1 score, and accuracy.\n",
    "\n",
    "It is important to maximize recall for this problem because we want to ensure that people we predict to die get accurately classified. In a real-world situation we would rather over-estimate the deaths than over-estimate the survivors. Additionally, we should be considering overall computational efficiency of the model. The RFC is an expensive and complicated model to run on larger datasets. While it did achieve the highest recall score, its precision, accuracy, and F1 score were beaten by the scores of the Categorical Naive Bayes model. On top of this, the CNB is less computationally taxing, so it wins in that regard as well.\n",
    "\n",
    "For these reason, the CNB will be selected as our primary model. While the RFC scored the highest recall score, it was only a marginal increase and not worth the potential resource expenditure considering it performed so poorly in every other metric too.\n"
   ]
  },
  {
   "cell_type": "code",
   "execution_count": 94,
   "metadata": {},
   "outputs": [],
   "source": [
    "#Fitting model with the Categorical Naive Bayes\n",
    "model = CNB.fit(X_train, y_train)\n",
    "\n",
    "#predicting outcomes\n",
    "y_test_pred = model.predict(X_test)\n",
    "\n",
    "#assigning predictions to the test set\n",
    "test['Survived'] = y_test_pred"
   ]
  },
  {
   "cell_type": "code",
   "execution_count": 95,
   "metadata": {},
   "outputs": [
    {
     "data": {
      "text/html": [
       "<div>\n",
       "<style scoped>\n",
       "    .dataframe tbody tr th:only-of-type {\n",
       "        vertical-align: middle;\n",
       "    }\n",
       "\n",
       "    .dataframe tbody tr th {\n",
       "        vertical-align: top;\n",
       "    }\n",
       "\n",
       "    .dataframe thead th {\n",
       "        text-align: right;\n",
       "    }\n",
       "</style>\n",
       "<table border=\"1\" class=\"dataframe\">\n",
       "  <thead>\n",
       "    <tr style=\"text-align: right;\">\n",
       "      <th></th>\n",
       "      <th>PassengerId</th>\n",
       "      <th>Pclass</th>\n",
       "      <th>Name</th>\n",
       "      <th>Sex</th>\n",
       "      <th>Age</th>\n",
       "      <th>SibSp</th>\n",
       "      <th>Parch</th>\n",
       "      <th>Ticket</th>\n",
       "      <th>Fare</th>\n",
       "      <th>Cabin</th>\n",
       "      <th>Embarked</th>\n",
       "      <th>Parch_bin</th>\n",
       "      <th>SibSp_bin</th>\n",
       "      <th>Survived</th>\n",
       "    </tr>\n",
       "  </thead>\n",
       "  <tbody>\n",
       "    <tr>\n",
       "      <th>0</th>\n",
       "      <td>892</td>\n",
       "      <td>3</td>\n",
       "      <td>Kelly, Mr. James</td>\n",
       "      <td>0</td>\n",
       "      <td>34.5</td>\n",
       "      <td>0</td>\n",
       "      <td>0</td>\n",
       "      <td>330911</td>\n",
       "      <td>7.8292</td>\n",
       "      <td>NaN</td>\n",
       "      <td>Q</td>\n",
       "      <td>0</td>\n",
       "      <td>0</td>\n",
       "      <td>0</td>\n",
       "    </tr>\n",
       "    <tr>\n",
       "      <th>1</th>\n",
       "      <td>893</td>\n",
       "      <td>3</td>\n",
       "      <td>Wilkes, Mrs. James (Ellen Needs)</td>\n",
       "      <td>1</td>\n",
       "      <td>47.0</td>\n",
       "      <td>1</td>\n",
       "      <td>0</td>\n",
       "      <td>363272</td>\n",
       "      <td>7.0000</td>\n",
       "      <td>NaN</td>\n",
       "      <td>S</td>\n",
       "      <td>0</td>\n",
       "      <td>1</td>\n",
       "      <td>1</td>\n",
       "    </tr>\n",
       "    <tr>\n",
       "      <th>2</th>\n",
       "      <td>894</td>\n",
       "      <td>2</td>\n",
       "      <td>Myles, Mr. Thomas Francis</td>\n",
       "      <td>0</td>\n",
       "      <td>62.0</td>\n",
       "      <td>0</td>\n",
       "      <td>0</td>\n",
       "      <td>240276</td>\n",
       "      <td>9.6875</td>\n",
       "      <td>NaN</td>\n",
       "      <td>Q</td>\n",
       "      <td>0</td>\n",
       "      <td>0</td>\n",
       "      <td>0</td>\n",
       "    </tr>\n",
       "    <tr>\n",
       "      <th>3</th>\n",
       "      <td>895</td>\n",
       "      <td>3</td>\n",
       "      <td>Wirz, Mr. Albert</td>\n",
       "      <td>0</td>\n",
       "      <td>27.0</td>\n",
       "      <td>0</td>\n",
       "      <td>0</td>\n",
       "      <td>315154</td>\n",
       "      <td>8.6625</td>\n",
       "      <td>NaN</td>\n",
       "      <td>S</td>\n",
       "      <td>0</td>\n",
       "      <td>0</td>\n",
       "      <td>0</td>\n",
       "    </tr>\n",
       "    <tr>\n",
       "      <th>4</th>\n",
       "      <td>896</td>\n",
       "      <td>3</td>\n",
       "      <td>Hirvonen, Mrs. Alexander (Helga E Lindqvist)</td>\n",
       "      <td>1</td>\n",
       "      <td>22.0</td>\n",
       "      <td>1</td>\n",
       "      <td>1</td>\n",
       "      <td>3101298</td>\n",
       "      <td>12.2875</td>\n",
       "      <td>NaN</td>\n",
       "      <td>S</td>\n",
       "      <td>1</td>\n",
       "      <td>1</td>\n",
       "      <td>1</td>\n",
       "    </tr>\n",
       "  </tbody>\n",
       "</table>\n",
       "</div>"
      ],
      "text/plain": [
       "   PassengerId  Pclass                                          Name  Sex  \\\n",
       "0          892       3                              Kelly, Mr. James    0   \n",
       "1          893       3              Wilkes, Mrs. James (Ellen Needs)    1   \n",
       "2          894       2                     Myles, Mr. Thomas Francis    0   \n",
       "3          895       3                              Wirz, Mr. Albert    0   \n",
       "4          896       3  Hirvonen, Mrs. Alexander (Helga E Lindqvist)    1   \n",
       "\n",
       "    Age  SibSp  Parch   Ticket     Fare Cabin Embarked  Parch_bin  SibSp_bin  \\\n",
       "0  34.5      0      0   330911   7.8292   NaN        Q          0          0   \n",
       "1  47.0      1      0   363272   7.0000   NaN        S          0          1   \n",
       "2  62.0      0      0   240276   9.6875   NaN        Q          0          0   \n",
       "3  27.0      0      0   315154   8.6625   NaN        S          0          0   \n",
       "4  22.0      1      1  3101298  12.2875   NaN        S          1          1   \n",
       "\n",
       "   Survived  \n",
       "0         0  \n",
       "1         1  \n",
       "2         0  \n",
       "3         0  \n",
       "4         1  "
      ]
     },
     "execution_count": 95,
     "metadata": {},
     "output_type": "execute_result"
    }
   ],
   "source": [
    "test.head()"
   ]
  },
  {
   "cell_type": "markdown",
   "metadata": {},
   "source": [
    "## Conclusion\n",
    "In this notebook we have identified several discrepancies in passenger attributes that led to better survival outcomes on the Titanic. These features have aided us in building a model that can predict which passengers are likely to have died during the disaster. We opted for a measure of recall above all other metrics, but went with a model that maximized recall while not compromizing accuracy, and precision."
   ]
  },
  {
   "cell_type": "code",
   "execution_count": null,
   "metadata": {},
   "outputs": [],
   "source": []
  }
 ],
 "metadata": {
  "kernelspec": {
   "display_name": "Python 3",
   "language": "python",
   "name": "python3"
  },
  "language_info": {
   "codemirror_mode": {
    "name": "ipython",
    "version": 3
   },
   "file_extension": ".py",
   "mimetype": "text/x-python",
   "name": "python",
   "nbconvert_exporter": "python",
   "pygments_lexer": "ipython3",
   "version": "3.7.1"
  }
 },
 "nbformat": 4,
 "nbformat_minor": 2
}
